{
  "nbformat": 4,
  "nbformat_minor": 0,
  "metadata": {
    "colab": {
      "name": "JSON.ipynb",
      "provenance": [],
      "authorship_tag": "ABX9TyPHM4m7U5PDBo+lQsuQCncH",
      "include_colab_link": true
    },
    "kernelspec": {
      "name": "python3",
      "display_name": "Python 3"
    }
  },
  "cells": [
    {
      "cell_type": "markdown",
      "metadata": {
        "id": "view-in-github",
        "colab_type": "text"
      },
      "source": [
        "<a href=\"https://colab.research.google.com/github/mubinui/PythonProjects/blob/master/JSON.ipynb\" target=\"_parent\"><img src=\"https://colab.research.google.com/assets/colab-badge.svg\" alt=\"Open In Colab\"/></a>"
      ]
    },
    {
      "cell_type": "code",
      "metadata": {
        "id": "BjpDkNzF_n8E"
      },
      "source": [
        "import json"
      ],
      "execution_count": null,
      "outputs": []
    },
    {
      "cell_type": "markdown",
      "metadata": {
        "id": "n_jcw4AXCVow"
      },
      "source": [
        "Parse JSON - Convert from JSON to python "
      ]
    },
    {
      "cell_type": "code",
      "metadata": {
        "colab": {
          "base_uri": "https://localhost:8080/"
        },
        "id": "2xzrPiXhDcg4",
        "outputId": "8f0583e9-c671-4998-8834-e8b21508ce58"
      },
      "source": [
        "x = '{\"Name\":\"Uic\",\"Age\":\"21\",\"City\":\"Dhaka\"}'\r\n",
        "#parse x :\r\n",
        "y = json.loads(x)\r\n",
        "print(y[\"Age\"])\r\n",
        "print(y)"
      ],
      "execution_count": null,
      "outputs": [
        {
          "output_type": "stream",
          "text": [
            "21\n",
            "{'Name': 'Uic', 'Age': '21', 'City': 'Dhaka'}\n"
          ],
          "name": "stdout"
        }
      ]
    },
    {
      "cell_type": "code",
      "metadata": {
        "id": "3gSRcYKJEXoc",
        "colab": {
          "base_uri": "https://localhost:8080/"
        },
        "outputId": "66d1f46c-93d3-41da-c20f-e82750c00064"
      },
      "source": [
        "y = {\"Name\":\"Mubin\",\"Age\":\"22\",\"City\":\"Silicon Vally\"}\r\n",
        "#Convert into json \r\n",
        "y = json.dumps(y)\r\n",
        "#The result is a json String \r\n",
        "print(y)\r\n",
        "x = (\"Mubin\",36,\"Programmer\")\r\n",
        "(Name, Age , red) = x # Unpacking a touple \r\n",
        "print(Name)"
      ],
      "execution_count": null,
      "outputs": [
        {
          "output_type": "stream",
          "text": [
            "{\"Name\": \"Mubin\", \"Age\": \"22\", \"City\": \"Silicon Vally\"}\n",
            "Mubin\n"
          ],
          "name": "stdout"
        }
      ]
    },
    {
      "cell_type": "code",
      "metadata": {
        "colab": {
          "base_uri": "https://localhost:8080/"
        },
        "id": "79kFa6NvAt0H",
        "outputId": "e18ee452-9f96-4f94-eb1e-81db974daca5"
      },
      "source": [
        "#Converting Python objects into JSON strings and printing the values \r\n",
        "print(json.dumps({\"Name\":\"Uic\",\"Age\":\"21\"}))#Dictionary\r\n",
        "print(json.dumps([\"apple\",\"banana\"]))#list\r\n",
        "print(json.dumps((\"hello\",\"baby\")))#touple\r\n",
        "#print(json.dumps({\"apple\",\"banana\",\"mango\",\"pine-apple\"})) SET not possible\r\n",
        "print(json.dumps(42))#Integer,float\r\n",
        "print(json.dumps(True))\r\n",
        "print(json.dumps(False))\r\n",
        "print(json.dumps(None))"
      ],
      "execution_count": null,
      "outputs": [
        {
          "output_type": "stream",
          "text": [
            "{\"Name\": \"Uic\", \"Age\": \"21\"}\n",
            "[\"apple\", \"banana\"]\n",
            "[\"hello\", \"baby\"]\n",
            "42\n",
            "true\n",
            "false\n",
            "null\n"
          ],
          "name": "stdout"
        }
      ]
    },
    {
      "cell_type": "code",
      "metadata": {
        "colab": {
          "base_uri": "https://localhost:8080/"
        },
        "id": "ARpiaSzhMfnB",
        "outputId": "d302683b-d143-4818-b806-21987db7841b"
      },
      "source": [
        "#Converting a python object containing all legal data types \r\n",
        "import json as j\r\n",
        "\r\n",
        "x = {\r\n",
        "    \"Name \": \"Mubin\",\r\n",
        "     \"age\":21,\r\n",
        "     \"Programmr\":True,\r\n",
        "     \"Artist\":False,\r\n",
        "     \"Computers\":(\"Xeroic-Zero\",\"Xeroic-One\",\"Xeroic-Max\"),\r\n",
        "     \"GF\":None,\r\n",
        "     \"IdEs\":[{\"Java\":\"IntellijIdea\",\"Python\":\"Pycharm\",\"PHP\":\"PhpStorm\"}]\r\n",
        "}\r\n",
        "print(j.dumps(x))\r\n",
        "print(j.dumps(x,indent=4))\r\n",
        "print(j.dumps(x,indent=5,separators=(\".\",\"=\")))\r\n",
        "print(j.dumps(x,indent=4,sort_keys=True))"
      ],
      "execution_count": null,
      "outputs": [
        {
          "output_type": "stream",
          "text": [
            "{\"Name \": \"Mubin\", \"age\": 21, \"Programmr\": true, \"Artist\": false, \"Computers\": [\"Xeroic-Zero\", \"Xeroic-One\", \"Xeroic-Max\"], \"GF\": null, \"IdEs\": [{\"Java\": \"IntellijIdea\", \"Python\": \"Pycharm\", \"PHP\": \"PhpStorm\"}]}\n",
            "{\n",
            "    \"Name \": \"Mubin\",\n",
            "    \"age\": 21,\n",
            "    \"Programmr\": true,\n",
            "    \"Artist\": false,\n",
            "    \"Computers\": [\n",
            "        \"Xeroic-Zero\",\n",
            "        \"Xeroic-One\",\n",
            "        \"Xeroic-Max\"\n",
            "    ],\n",
            "    \"GF\": null,\n",
            "    \"IdEs\": [\n",
            "        {\n",
            "            \"Java\": \"IntellijIdea\",\n",
            "            \"Python\": \"Pycharm\",\n",
            "            \"PHP\": \"PhpStorm\"\n",
            "        }\n",
            "    ]\n",
            "}\n",
            "{\n",
            "     \"Name \"=\"Mubin\".\n",
            "     \"age\"=21.\n",
            "     \"Programmr\"=true.\n",
            "     \"Artist\"=false.\n",
            "     \"Computers\"=[\n",
            "          \"Xeroic-Zero\".\n",
            "          \"Xeroic-One\".\n",
            "          \"Xeroic-Max\"\n",
            "     ].\n",
            "     \"GF\"=null.\n",
            "     \"IdEs\"=[\n",
            "          {\n",
            "               \"Java\"=\"IntellijIdea\".\n",
            "               \"Python\"=\"Pycharm\".\n",
            "               \"PHP\"=\"PhpStorm\"\n",
            "          }\n",
            "     ]\n",
            "}\n",
            "{\n",
            "    \"Artist\": false,\n",
            "    \"Computers\": [\n",
            "        \"Xeroic-Zero\",\n",
            "        \"Xeroic-One\",\n",
            "        \"Xeroic-Max\"\n",
            "    ],\n",
            "    \"GF\": null,\n",
            "    \"IdEs\": [\n",
            "        {\n",
            "            \"Java\": \"IntellijIdea\",\n",
            "            \"PHP\": \"PhpStorm\",\n",
            "            \"Python\": \"Pycharm\"\n",
            "        }\n",
            "    ],\n",
            "    \"Name \": \"Mubin\",\n",
            "    \"Programmr\": true,\n",
            "    \"age\": 21\n",
            "}\n"
          ],
          "name": "stdout"
        }
      ]
    },
    {
      "cell_type": "code",
      "metadata": {
        "id": "qtVJZyCQQSZE"
      },
      "source": [
        ""
      ],
      "execution_count": null,
      "outputs": []
    }
  ]
}