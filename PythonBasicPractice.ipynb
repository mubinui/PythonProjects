{
  "nbformat": 4,
  "nbformat_minor": 0,
  "metadata": {
    "colab": {
      "name": "PythonBasicPractice",
      "provenance": [],
      "authorship_tag": "ABX9TyPw0l4F7JM5B8OpAbYye+s3",
      "include_colab_link": true
    },
    "kernelspec": {
      "name": "python3",
      "display_name": "Python 3"
    },
    "language_info": {
      "name": "python"
    }
  },
  "cells": [
    {
      "cell_type": "markdown",
      "metadata": {
        "id": "view-in-github",
        "colab_type": "text"
      },
      "source": [
        "<a href=\"https://colab.research.google.com/github/mubinui/PythonProjects/blob/master/PythonBasicPractice.ipynb\" target=\"_parent\"><img src=\"https://colab.research.google.com/assets/colab-badge.svg\" alt=\"Open In Colab\"/></a>"
      ]
    },
    {
      "cell_type": "code",
      "metadata": {
        "id": "lGpbj6MJaG_H",
        "colab": {
          "base_uri": "https://localhost:8080/"
        },
        "outputId": "a2854ee6-752d-4900-d1bd-bb0b1920bfbb"
      },
      "source": [
        "class People:\n",
        "    def __init__ (self, name, age, dept):\n",
        "        self.name = name\n",
        "        self.age = age \n",
        "        self.dept = dept\n",
        "        print(\"System is working so far\")\n",
        "\n",
        "        if dept. __eq__(\"CSE\"):\n",
        "            print(\"He He Ha Ha -->\")\n",
        "            print(\"I am a CSE \",self.dept)\n",
        "        else:\n",
        "            print(\"Sorry EEE not Allowed here \")\n",
        "\n",
        "\n",
        "\n",
        "    # def __init__ (self, name, age ):\n",
        "    #     self.name = name\n",
        "    #     self.age = age\n",
        "    #     print(\"System Initializing\")\n",
        "        \n",
        "\n",
        "    def people_age(self):\n",
        "        print(\"Your Name is \",self.name)\n",
        "        return lambda a : a+12\n",
        "\n",
        "# Creating oblect of people \n",
        "p1 = People(\"Mubin\", 22, \"EEE\")\n",
        "p2 = People (\"UIC\" ,22, \"CSE\")\n",
        "b_met = p1.people_age()\n",
        "\n",
        "a_met = p2.people_age()\n",
        "print(a_met(22))\n",
        "\n",
        "print(b_met(23))\n",
        "\n",
        "\n"
      ],
      "execution_count": null,
      "outputs": [
        {
          "output_type": "stream",
          "text": [
            "System is working so far\n",
            "Sorry EEE not Allowed here \n",
            "System is working so far\n",
            "He He Ha Ha -->\n",
            "I am a CSE  CSE\n",
            "Your Name is  Mubin\n",
            "Your Name is  UIC\n",
            "34\n",
            "35\n"
          ],
          "name": "stdout"
        }
      ]
    },
    {
      "cell_type": "markdown",
      "metadata": {
        "id": "pHxIMQnlnnSx"
      },
      "source": [
        "Importing plain text in pyton in colab  "
      ]
    },
    {
      "cell_type": "code",
      "metadata": {
        "id": "BvanHkYnrP9_"
      },
      "source": [
        "# https://www.gutenberg.org/files/65457/65457-0.txt\n",
        "import requests \n",
        "\n",
        "result = requests.get(\"https://www.gutenberg.org/files/65457/65457-0.txt\")\n",
        "text = result.text\n",
        "print(text)"
      ],
      "execution_count": null,
      "outputs": []
    },
    {
      "cell_type": "markdown",
      "metadata": {
        "id": "KaSJh4puuHuu"
      },
      "source": [
        "Here we will work on Inheritence in python "
      ]
    },
    {
      "cell_type": "code",
      "metadata": {
        "colab": {
          "base_uri": "https://localhost:8080/"
        },
        "id": "7-9VV1L1uFxH",
        "outputId": "1b496c24-f520-436f-bdd2-643001a4291d"
      },
      "source": [
        "# Parent class is really simple class \n",
        "class Person:\n",
        "    def __init__ (self, fname, lname ):\n",
        "        self.firstname = fname\n",
        "        self.lastname =  lname\n",
        "\n",
        "    def printname(self):\n",
        "        print(self.firstname, self.lastname)\n",
        "\n",
        "    def r_age(self):\n",
        "        x = self.firstname\n",
        "        a = ord(x[0])\n",
        "        return lambda b : b+a \n",
        "\n",
        "\n",
        "\n",
        "person_object01 = Person(\"Mubin\", \"Uic\")\n",
        "person_object01.printname()\n",
        "age = person_object01.r_age()\n",
        "cal_age = age(20)\n",
        "print(cal_age)\n",
        "\n"
      ],
      "execution_count": 16,
      "outputs": [
        {
          "output_type": "stream",
          "text": [
            "Mubin Uic\n",
            "97\n"
          ],
          "name": "stdout"
        }
      ]
    },
    {
      "cell_type": "markdown",
      "metadata": {
        "id": "H295QnRay4zV"
      },
      "source": [
        "Now creating a child class"
      ]
    },
    {
      "cell_type": "code",
      "metadata": {
        "colab": {
          "base_uri": "https://localhost:8080/"
        },
        "id": "qmyOO1mL0wH0",
        "outputId": "e818749c-5db2-44a6-f069-776ccef89171"
      },
      "source": [
        "# Now creating a child class \n",
        "class Son(Person):\n",
        "    def __init__ (self, fname, lname, birth_date):\n",
        "        #Overriding \n",
        "        Person. __init__(self, fname, lname) # super(). __init__ (fname, lname) does the same task \n",
        "        self.birth_date = birth_date\n",
        "        print(\"Child running\")\n",
        "\n",
        "    \n",
        "    def printdetails(self):\n",
        "        print(self.firstname, self.lastname, self.birth_date) # Look carefully I am printing firstname , lastname instead of fname and lname \n",
        "\n",
        "s_object = Son(\"Mubin\", \"UIC\", \"2005-10-10\")\n",
        "print(s_object.printname())\n",
        "print(s_object.printdetails())\n",
        "\n"
      ],
      "execution_count": 20,
      "outputs": [
        {
          "output_type": "stream",
          "text": [
            "Child running\n",
            "Mubin UIC\n",
            "None\n",
            "Mubin UIC 2005-10-10\n",
            "None\n"
          ],
          "name": "stdout"
        }
      ]
    }
  ]
}