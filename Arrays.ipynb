{
  "nbformat": 4,
  "nbformat_minor": 0,
  "metadata": {
    "colab": {
      "name": "Arrays.ipynb",
      "provenance": [],
      "authorship_tag": "ABX9TyOEoRj6kyPtPWiitLXBf0nr",
      "include_colab_link": true
    },
    "kernelspec": {
      "name": "python3",
      "display_name": "Python 3"
    }
  },
  "cells": [
    {
      "cell_type": "markdown",
      "metadata": {
        "id": "view-in-github",
        "colab_type": "text"
      },
      "source": [
        "<a href=\"https://colab.research.google.com/github/mubinui/PythonProjects/blob/master/Arrays.ipynb\" target=\"_parent\"><img src=\"https://colab.research.google.com/assets/colab-badge.svg\" alt=\"Open In Colab\"/></a>"
      ]
    },
    {
      "cell_type": "code",
      "metadata": {
        "id": "4ylyu6T4B4Pr",
        "colab": {
          "base_uri": "https://localhost:8080/"
        },
        "outputId": "a3e5b3df-44e4-4606-a835-5a79f41c647e"
      },
      "source": [
        "cars = [\"Ford\",\"Volvo\",\"BMW\"]\r\n",
        "for x in cars :\r\n",
        "    print(x)\r\n",
        "cars.append('Honda')\r\n",
        "print(cars)\r\n",
        "cars.remove(\"Ford\")\r\n",
        "print(cars,\"After remove operation \")\r\n",
        "cars.append(\"Apple\")\r\n",
        "print(cars)\r\n",
        "cars.pop()\r\n",
        "print(cars,\"After pop operation\")    \r\n"
      ],
      "execution_count": null,
      "outputs": [
        {
          "output_type": "stream",
          "text": [
            "Ford\n",
            "Volvo\n",
            "BMW\n",
            "['Ford', 'Volvo', 'BMW', 'Honda']\n",
            "['Volvo', 'BMW', 'Honda'] After remove operation \n",
            "['Volvo', 'BMW', 'Honda'] After pop operation\n"
          ],
          "name": "stdout"
        }
      ]
    },
    {
      "cell_type": "markdown",
      "metadata": {
        "id": "Fs97yZUI44Kk"
      },
      "source": [
        "clear() copy() count()extend() index() insert()reverse()sort()"
      ]
    },
    {
      "cell_type": "code",
      "metadata": {
        "colab": {
          "base_uri": "https://localhost:8080/"
        },
        "id": "K8oBozPk3nFP",
        "outputId": "5e394dfc-791d-4bc6-8cba-4bb0335a4ea0"
      },
      "source": [
        "smartphones = [\"apple\",\"samsung\",\"nokia\",\"xiaomi\"]\r\n",
        "print(smartphones)\r\n",
        "smartphones.sort(reverse=True)\r\n",
        "print(smartphones)\r\n",
        "print(smartphones.count(\"apple\"))\r\n",
        "a_list = list((\"xero\",\"spider\",\"xero-s\"))\r\n",
        "smartphones.extend(a_list)\r\n",
        "print(smartphones)\r\n",
        "smartphones.insert(2,\"xero-Max\")\r\n",
        "print(smartphones)\r\n",
        "print(smartphones.index(\"xero\"))# first index with the specific value"
      ],
      "execution_count": null,
      "outputs": [
        {
          "output_type": "stream",
          "text": [
            "['apple', 'samsung', 'nokia', 'xiaomi']\n",
            "['xiaomi', 'samsung', 'nokia', 'apple']\n",
            "1\n",
            "['xiaomi', 'samsung', 'nokia', 'apple', 'xero', 'spider', 'xero-s']\n",
            "['xiaomi', 'samsung', 'xero-Max', 'nokia', 'apple', 'xero', 'spider', 'xero-s']\n",
            "5\n"
          ],
          "name": "stdout"
        }
      ]
    },
    {
      "cell_type": "code",
      "metadata": {
        "id": "5bq8OmJq6VrC"
      },
      "source": [
        ""
      ],
      "execution_count": null,
      "outputs": []
    }
  ]
}