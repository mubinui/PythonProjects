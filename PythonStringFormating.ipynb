{
  "nbformat": 4,
  "nbformat_minor": 0,
  "metadata": {
    "colab": {
      "name": "PythonStringFormating.ipynb",
      "provenance": [],
      "authorship_tag": "ABX9TyMKZ/mfhgsRtQoSNnAQ3YPf",
      "include_colab_link": true
    },
    "kernelspec": {
      "name": "python3",
      "display_name": "Python 3"
    },
    "language_info": {
      "name": "python"
    }
  },
  "cells": [
    {
      "cell_type": "markdown",
      "metadata": {
        "id": "view-in-github",
        "colab_type": "text"
      },
      "source": [
        "<a href=\"https://colab.research.google.com/github/mubinui/PythonProjects/blob/master/PythonStringFormating.ipynb\" target=\"_parent\"><img src=\"https://colab.research.google.com/assets/colab-badge.svg\" alt=\"Open In Colab\"/></a>"
      ]
    },
    {
      "cell_type": "code",
      "metadata": {
        "colab": {
          "base_uri": "https://localhost:8080/"
        },
        "id": "yHmSUIOGTwAV",
        "outputId": "6c5bb78f-685c-4f26-fd97-1eee04d7e330"
      },
      "source": [
        "price = int(input(\"Input Price \"))\n",
        "txt = \"The price is {} dollars \"\n",
        "print(txt.format(price))\n",
        "#Use of {} formating "
      ],
      "execution_count": null,
      "outputs": [
        {
          "output_type": "stream",
          "text": [
            "Input Price 75\n",
            "The price is 75 dollars \n"
          ],
          "name": "stdout"
        }
      ]
    },
    {
      "cell_type": "code",
      "metadata": {
        "colab": {
          "base_uri": "https://localhost:8080/"
        },
        "id": "fg9hXVueUibe",
        "outputId": "43268b84-6a20-4e32-ae00-2fdc2a54f67e"
      },
      "source": [
        "#floating number representation within a limit\n",
        "price = float(input(\"Input the price \")) \n",
        "txt = \"The price is {:.2f} dollars \"\n",
        "print(txt.format(price)) "
      ],
      "execution_count": null,
      "outputs": [
        {
          "output_type": "stream",
          "text": [
            "Input the price 10.2335\n",
            "The price is 10.23 dollars \n"
          ],
          "name": "stdout"
        }
      ]
    },
    {
      "cell_type": "code",
      "metadata": {
        "colab": {
          "base_uri": "https://localhost:8080/"
        },
        "id": "20u1tvSdVoSe",
        "outputId": "44024fbf-0f2c-4d75-a97d-b81423ffc0d8"
      },
      "source": [
        "# string formating with multiple values \n",
        "price = 10\n",
        "iter = 500\n",
        "price = 45.1112\n",
        "myorder = \"I want {} pieces of item number {} for {:.3f} dollars \"\n",
        "print(myorder.format(price,iter,price))\n"
      ],
      "execution_count": null,
      "outputs": [
        {
          "output_type": "stream",
          "text": [
            "I want 45.1112 pieces of item number 500 for 45.111 dollars \n"
          ],
          "name": "stdout"
        }
      ]
    },
    {
      "cell_type": "code",
      "metadata": {
        "colab": {
          "base_uri": "https://localhost:8080/"
        },
        "id": "8nwwg48fZtDt",
        "outputId": "8303f366-d1c1-4749-feaa-79128e848af2"
      },
      "source": [
        "age = 12\n",
        "name = \"Mubin Uic \"\n",
        "txt = \"There are {1}. {1} is {0} years old \"\n",
        "print(txt.format(age,name))\n",
        "# Indexing the string \n"
      ],
      "execution_count": null,
      "outputs": [
        {
          "output_type": "stream",
          "text": [
            "There are Mubin Uic . Mubin Uic  is 12 years old \n"
          ],
          "name": "stdout"
        }
      ]
    },
    {
      "cell_type": "code",
      "metadata": {
        "colab": {
          "base_uri": "https://localhost:8080/"
        },
        "id": "YfRM3iFDaUg0",
        "outputId": "097c74fa-3fcf-42e3-97a1-680db42807f7"
      },
      "source": [
        "Superman = \"I am Superman {super} and You are {duper} Supergirl \"\n",
        "print(Superman.format(super=\"Mubin\",duper=\"my cousin\"))"
      ],
      "execution_count": null,
      "outputs": [
        {
          "output_type": "stream",
          "text": [
            "I am Superman Mubin and You are my cousin Supergirl \n"
          ],
          "name": "stdout"
        }
      ]
    },
    {
      "cell_type": "code",
      "metadata": {
        "id": "m92K1GZxbTkV"
      },
      "source": [
        ""
      ],
      "execution_count": null,
      "outputs": []
    }
  ]
}