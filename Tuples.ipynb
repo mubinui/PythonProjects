{
  "nbformat": 4,
  "nbformat_minor": 0,
  "metadata": {
    "colab": {
      "name": "Tuples.ipynb",
      "provenance": [],
      "authorship_tag": "ABX9TyMAa/5Y3+d7fnVAy30O/re9",
      "include_colab_link": true
    },
    "kernelspec": {
      "name": "python3",
      "display_name": "Python 3"
    }
  },
  "cells": [
    {
      "cell_type": "markdown",
      "metadata": {
        "id": "view-in-github",
        "colab_type": "text"
      },
      "source": [
        "<a href=\"https://colab.research.google.com/github/mubinui/PythonProjects/blob/master/Tuples.ipynb\" target=\"_parent\"><img src=\"https://colab.research.google.com/assets/colab-badge.svg\" alt=\"Open In Colab\"/></a>"
      ]
    },
    {
      "cell_type": "markdown",
      "metadata": {
        "id": "OkZtb1WxEfTg"
      },
      "source": [
        "Lets do some work with touples () # touple signature "
      ]
    },
    {
      "cell_type": "code",
      "metadata": {
        "colab": {
          "base_uri": "https://localhost:8080/"
        },
        "id": "-13Ey0yPD94Q",
        "outputId": "c31210df-3fc2-4b32-cf60-19f192dae7f7"
      },
      "source": [
        "mytuple = ('apple','banana','cherry')\r\n",
        "print(mytuple)\r\n"
      ],
      "execution_count": null,
      "outputs": [
        {
          "output_type": "stream",
          "text": [
            "('apple', 'banana', 'cherry')\n"
          ],
          "name": "stdout"
        }
      ]
    },
    {
      "cell_type": "code",
      "metadata": {
        "colab": {
          "base_uri": "https://localhost:8080/"
        },
        "id": "IPrHLpI7EV_U",
        "outputId": "97b28f05-d59d-42cc-ca16-06170ac33cd8"
      },
      "source": [
        "#Allow duplicates \r\n",
        "mytouple = ('apple','banana','cherry','apple','cherry')\r\n",
        "print(mytouple)\r\n",
        "#touple length\r\n",
        "print(len(mytouple))\r\n",
        "print(type(mytouple))\r\n",
        "mytouple00 = (1,2,3,4,5,8)\r\n",
        "print(type(mytouple00))\r\n",
        "mytouple01 = ('abc',34,True,'male')\r\n",
        "print(mytouple01)"
      ],
      "execution_count": null,
      "outputs": [
        {
          "output_type": "stream",
          "text": [
            "('apple', 'banana', 'cherry', 'apple', 'cherry')\n",
            "5\n",
            "<class 'tuple'>\n",
            "<class 'tuple'>\n",
            "('abc', 34, True, 'male')\n"
          ],
          "name": "stdout"
        }
      ]
    },
    {
      "cell_type": "markdown",
      "metadata": {
        "id": "wYhCIFXyGSgU"
      },
      "source": [
        "Accessing touple items "
      ]
    },
    {
      "cell_type": "code",
      "metadata": {
        "colab": {
          "base_uri": "https://localhost:8080/"
        },
        "id": "SwjJVyzhE6m2",
        "outputId": "b615d797-b1df-40b9-8970-a3b51ca7d331"
      },
      "source": [
        "mytouple = ('apple','banana','cherry')\r\n",
        "print(mytouple[1:])"
      ],
      "execution_count": null,
      "outputs": [
        {
          "output_type": "stream",
          "text": [
            "('banana', 'cherry')\n"
          ],
          "name": "stdout"
        }
      ]
    },
    {
      "cell_type": "code",
      "metadata": {
        "colab": {
          "base_uri": "https://localhost:8080/"
        },
        "id": "d7FPZKEgGqkc",
        "outputId": "0789553a-80f6-4b36-de93-88ae0463becc"
      },
      "source": [
        "#conditonal statements in touple \r\n",
        "mytouple = ('apple','banna','cherry')\r\n",
        "if 'apple' in mytouple:\r\n",
        "    print('Yes, come on baby ')\r\n",
        "\r\n"
      ],
      "execution_count": null,
      "outputs": [
        {
          "output_type": "stream",
          "text": [
            "Yes, come on baby \n"
          ],
          "name": "stdout"
        }
      ]
    },
    {
      "cell_type": "markdown",
      "metadata": {
        "id": "zxDFgfSWHSVS"
      },
      "source": [
        "Touples are **Inchangabe or immutable**"
      ]
    },
    {
      "cell_type": "code",
      "metadata": {
        "colab": {
          "base_uri": "https://localhost:8080/"
        },
        "id": "hIn9zg7mHNqt",
        "outputId": "7a96befa-7854-4322-a736-107c42a53e41"
      },
      "source": [
        "x = ('coconut', 'apple','banana', 'cherry')\r\n",
        "# first we need to convert touple to list then we can insertion or deletion \r\n",
        "y = list(x)\r\n",
        "y[1] = ('uic')\r\n",
        "print(y)\r\n",
        "#append() dont work with touple \r\n",
        "#deleting values from touple \r\n",
        "#y.remove('apple') Not possible \r\n",
        "print(x)\r\n",
        "del x\r\n",
        "#print(x) Not possible because deleted completely "
      ],
      "execution_count": null,
      "outputs": [
        {
          "output_type": "stream",
          "text": [
            "['coconut', 'uic', 'banana', 'cherry']\n",
            "('coconut', 'apple', 'banana', 'cherry')\n"
          ],
          "name": "stdout"
        }
      ]
    },
    {
      "cell_type": "markdown",
      "metadata": {
        "id": "zJzkVMbnLibu"
      },
      "source": [
        "Unpacking a touple "
      ]
    },
    {
      "cell_type": "code",
      "metadata": {
        "colab": {
          "base_uri": "https://localhost:8080/"
        },
        "id": "1Vk2Em0yJoMG",
        "outputId": "5e9d5669-5266-40a1-cae7-3d90d566b45f"
      },
      "source": [
        "fruits = ('apple','banana', 'coconut','cherry')\r\n",
        "(a,b,c,d) = fruits\r\n",
        "print(a,\"\\n\",b,c)\r\n",
        "# printing on the same line python \r\n",
        "#using of asterix (till end )\r\n",
        "fruits_more = ('apple','banana', 'coconut','cherry','goava','pineapple','green apple ', 'blueberry')\r\n",
        "(a,b,c,*d) = fruits_more\r\n",
        "print(d)\r\n",
        "print(a)\r\n",
        "print(b)\r\n",
        "print(c)"
      ],
      "execution_count": null,
      "outputs": [
        {
          "output_type": "stream",
          "text": [
            "apple \n",
            " banana coconut\n",
            "['cherry', 'goava', 'pineapple', 'green apple ', 'blueberry']\n",
            "apple\n",
            "banana\n",
            "coconut\n"
          ],
          "name": "stdout"
        }
      ]
    },
    {
      "cell_type": "code",
      "metadata": {
        "colab": {
          "base_uri": "https://localhost:8080/"
        },
        "id": "XUNNyQw0Mi1X",
        "outputId": "29f48e18-982f-4fe2-daea-75573f209693"
      },
      "source": [
        "thistouple = ('a','b','c','d','e','f','g','h','i','j','k')\r\n",
        "list01 = [thistouple[i] for i in range(len(thistouple))]\r\n",
        "print(list01)\r\n",
        "#joining two touples \r\n",
        "touple1 = ('a','b','c')\r\n",
        "touple2 = (1,2,3)\r\n",
        "touple3 = touple1 + touple2\r\n",
        "print(touple3)\r\n",
        "mytouple_a = touple3 * 2\r\n",
        "print(mytouple_a)"
      ],
      "execution_count": null,
      "outputs": [
        {
          "output_type": "stream",
          "text": [
            "['a', 'b', 'c', 'd', 'e', 'f', 'g', 'h', 'i', 'j', 'k']\n",
            "('a', 'b', 'c', 1, 2, 3)\n",
            "('a', 'b', 'c', 1, 2, 3, 'a', 'b', 'c', 1, 2, 3)\n"
          ],
          "name": "stdout"
        }
      ]
    },
    {
      "cell_type": "markdown",
      "metadata": {
        "id": "-101_eEATkSc"
      },
      "source": [
        "Touple methods "
      ]
    },
    {
      "cell_type": "code",
      "metadata": {
        "id": "nDgA5HJVSjlm"
      },
      "source": [
        "#count(),index()"
      ],
      "execution_count": null,
      "outputs": []
    }
  ]
}