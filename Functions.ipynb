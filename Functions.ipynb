{
  "nbformat": 4,
  "nbformat_minor": 0,
  "metadata": {
    "colab": {
      "name": "Functions.ipynb",
      "provenance": [],
      "authorship_tag": "ABX9TyMC+fvSAJREri3F+Skr50uu",
      "include_colab_link": true
    },
    "kernelspec": {
      "name": "python3",
      "display_name": "Python 3"
    }
  },
  "cells": [
    {
      "cell_type": "markdown",
      "metadata": {
        "id": "view-in-github",
        "colab_type": "text"
      },
      "source": [
        "<a href=\"https://colab.research.google.com/github/mubinui/PythonProjects/blob/master/Functions.ipynb\" target=\"_parent\"><img src=\"https://colab.research.google.com/assets/colab-badge.svg\" alt=\"Open In Colab\"/></a>"
      ]
    },
    {
      "cell_type": "markdown",
      "metadata": {
        "id": "TXEwgjwNyoij"
      },
      "source": [
        "This how we create a function in python "
      ]
    },
    {
      "cell_type": "code",
      "metadata": {
        "colab": {
          "base_uri": "https://localhost:8080/"
        },
        "id": "A0T34eFiyFV4",
        "outputId": "7fe6ee42-5a0e-4f97-b752-178ee4bd2535"
      },
      "source": [
        "def my_function():\r\n",
        "    print(\"This is my function \")\r\n",
        "\r\n",
        "my_function()"
      ],
      "execution_count": null,
      "outputs": [
        {
          "output_type": "stream",
          "text": [
            "This is my function \n"
          ],
          "name": "stdout"
        }
      ]
    },
    {
      "cell_type": "code",
      "metadata": {
        "colab": {
          "base_uri": "https://localhost:8080/"
        },
        "id": "dC-NWmrSy4Ra",
        "outputId": "ace0f779-03d4-4e19-b091-3cba055b68bb"
      },
      "source": [
        "#Number arguments in python functions \r\n",
        "def function_one(fname,lname):\r\n",
        "    print(fname +' '+ lname)\r\n",
        "\r\n",
        "function_one(\"Mubin\",\"Shafinaz\")\r\n"
      ],
      "execution_count": null,
      "outputs": [
        {
          "output_type": "stream",
          "text": [
            "Mubin Shafinaz\n"
          ],
          "name": "stdout"
        }
      ]
    },
    {
      "cell_type": "code",
      "metadata": {
        "colab": {
          "base_uri": "https://localhost:8080/"
        },
        "id": "jAs29C990TIO",
        "outputId": "872d391f-2f0c-4e98-aa8f-cba9d67427ef"
      },
      "source": [
        "#Arbitrary Keyword Arguments ,**Kwargs\r\n",
        "\r\n",
        "def this_function(**name):\r\n",
        "    print(\"My last name is \" + name[\"fuck\"])\r\n",
        "\r\n",
        "this_function(fuck='mubin',duck = \"cool\")"
      ],
      "execution_count": null,
      "outputs": [
        {
          "output_type": "stream",
          "text": [
            "My last name is mubin\n"
          ],
          "name": "stdout"
        }
      ]
    },
    {
      "cell_type": "code",
      "metadata": {
        "colab": {
          "base_uri": "https://localhost:8080/"
        },
        "id": "gVl8FrP92Jxm",
        "outputId": "2e30f86d-0d02-4847-d7f7-f4d24895b02a"
      },
      "source": [
        "#We can set default parameter value in python \r\n",
        "def a_function(Job = \"programming\"):\r\n",
        "    print(\"My job is \"+Job)\r\n",
        "\r\n",
        "a_function(\"Drawing\")\r\n",
        "a_function(\"3d designing \")\r\n",
        "a_function()"
      ],
      "execution_count": null,
      "outputs": [
        {
          "output_type": "stream",
          "text": [
            "My job is Drawing\n",
            "My job is 3d designing \n",
            "My job is programming\n"
          ],
          "name": "stdout"
        }
      ]
    },
    {
      "cell_type": "code",
      "metadata": {
        "colab": {
          "base_uri": "https://localhost:8080/"
        },
        "id": "Lyee4JF93wmZ",
        "outputId": "b746fe6a-e8f2-4777-82c7-1983512ef001"
      },
      "source": [
        "#Passing list as argument\r\n",
        "def b_function(phone):\r\n",
        "    for x in phone:\r\n",
        "        print(x)\r\n",
        "\r\n",
        "phone_list = ['samsung','nokia','apple','xioami','oneplus']\r\n",
        "\r\n",
        "b_function(phone_list)"
      ],
      "execution_count": null,
      "outputs": [
        {
          "output_type": "stream",
          "text": [
            "samsung\n",
            "nokia\n",
            "apple\n",
            "xioami\n",
            "oneplus\n"
          ],
          "name": "stdout"
        }
      ]
    },
    {
      "cell_type": "code",
      "metadata": {
        "colab": {
          "base_uri": "https://localhost:8080/"
        },
        "id": "vPS9PcKW5sdr",
        "outputId": "212541fb-bdce-44b8-f686-902ad03ce3ac"
      },
      "source": [
        "#Return value function \r\n",
        "def my_function(x):\r\n",
        "    if x== 0 :\r\n",
        "        return 0\r\n",
        "    elif x == 1:\r\n",
        "        return 1\r\n",
        "    else:\r\n",
        "        return (my_function(x-1) + my_function(x-2))\r\n",
        "\r\n",
        "fibonacci = my_function(10)\r\n",
        "print(fibonacci ,\" is Fibonacci number\")\r\n",
        "\r\n"
      ],
      "execution_count": null,
      "outputs": [
        {
          "output_type": "stream",
          "text": [
            "55  is Fibonacci number\n"
          ],
          "name": "stdout"
        }
      ]
    },
    {
      "cell_type": "code",
      "metadata": {
        "colab": {
          "base_uri": "https://localhost:8080/"
        },
        "id": "g2LKEOb_60dK",
        "outputId": "0c9fb4e4-4835-49ad-db6b-a9e0d9c1b243"
      },
      "source": [
        "# Pass keyword for avoiding an error\r\n",
        "print(\"hello\",end=\" \")\r\n",
        "def ErrorCreatorFunction(): #No impact\r\n",
        "    print(0/10)\r\n",
        "    pass\r\n",
        "    print(0/100)\r\n",
        "\r\n",
        "print(\"world\")"
      ],
      "execution_count": null,
      "outputs": [
        {
          "output_type": "stream",
          "text": [
            "hello world\n"
          ],
          "name": "stdout"
        }
      ]
    },
    {
      "cell_type": "code",
      "metadata": {
        "id": "_eRyFCGC9AJx"
      },
      "source": [
        ""
      ],
      "execution_count": null,
      "outputs": []
    }
  ]
}