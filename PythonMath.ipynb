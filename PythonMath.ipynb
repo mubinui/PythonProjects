{
  "nbformat": 4,
  "nbformat_minor": 0,
  "metadata": {
    "colab": {
      "name": "PythonMath.ipynb",
      "provenance": [],
      "authorship_tag": "ABX9TyMh7D3IT6FbuQYYlIPQ61Ob",
      "include_colab_link": true
    },
    "kernelspec": {
      "name": "python3",
      "display_name": "Python 3"
    }
  },
  "cells": [
    {
      "cell_type": "markdown",
      "metadata": {
        "id": "view-in-github",
        "colab_type": "text"
      },
      "source": [
        "<a href=\"https://colab.research.google.com/github/mubinui/PythonProjects/blob/master/PythonMath.ipynb\" target=\"_parent\"><img src=\"https://colab.research.google.com/assets/colab-badge.svg\" alt=\"Open In Colab\"/></a>"
      ]
    },
    {
      "cell_type": "markdown",
      "metadata": {
        "id": "ri5-Gy3vf6j1"
      },
      "source": [
        "Built in Math-Functions \r\n"
      ]
    },
    {
      "cell_type": "code",
      "metadata": {
        "id": "sC3YFh1CfypC",
        "colab": {
          "base_uri": "https://localhost:8080/"
        },
        "outputId": "327e77b7-e8c6-4d80-d654-5910f57848e9"
      },
      "source": [
        "#min() and max() function \r\n",
        "x = min(10,20,30,40,50)\r\n",
        "print(x)\r\n",
        "y = max(30,40,60)\r\n",
        "print(y)"
      ],
      "execution_count": null,
      "outputs": [
        {
          "output_type": "stream",
          "text": [
            "10\n",
            "60\n"
          ],
          "name": "stdout"
        }
      ]
    },
    {
      "cell_type": "code",
      "metadata": {
        "colab": {
          "base_uri": "https://localhost:8080/"
        },
        "id": "F3_22s2x6cNS",
        "outputId": "e1a9295a-97b6-458c-8a00-d3c965981b9f"
      },
      "source": [
        "#abs function \r\n",
        "a = abs(-23.05)\r\n",
        "print(a)"
      ],
      "execution_count": null,
      "outputs": [
        {
          "output_type": "stream",
          "text": [
            "23.05\n"
          ],
          "name": "stdout"
        }
      ]
    },
    {
      "cell_type": "code",
      "metadata": {
        "colab": {
          "base_uri": "https://localhost:8080/"
        },
        "id": "VCICp0n-8A7-",
        "outputId": "3c82ed23-a8d1-4dd0-b157-10302576e955"
      },
      "source": [
        "#pow function \r\n",
        "x = pow(5,2)\r\n",
        "print(x)"
      ],
      "execution_count": null,
      "outputs": [
        {
          "output_type": "stream",
          "text": [
            "25\n"
          ],
          "name": "stdout"
        }
      ]
    },
    {
      "cell_type": "markdown",
      "metadata": {
        "id": "IDPch1p28UaJ"
      },
      "source": [
        "Math module \r\n"
      ]
    },
    {
      "cell_type": "code",
      "metadata": {
        "colab": {
          "base_uri": "https://localhost:8080/"
        },
        "id": "ogGXxUmy8YUG",
        "outputId": "1769298a-bbfe-4b1c-dfc3-4044401c3732"
      },
      "source": [
        "import math as m \r\n",
        "a = m.sqrt(6)\r\n",
        "print(a)\r\n",
        "b = pow(6,(1/2))\r\n",
        "print(b)\r\n",
        "#ceil and floor function \r\n",
        "d = m.ceil(1.2)\r\n",
        "e = m.floor(1.9)\r\n",
        "print(d,e)\r\n",
        "print(m.pi)"
      ],
      "execution_count": null,
      "outputs": [
        {
          "output_type": "stream",
          "text": [
            "2.449489742783178\n",
            "2.449489742783178\n",
            "2 1\n",
            "3.141592653589793\n"
          ],
          "name": "stdout"
        }
      ]
    },
    {
      "cell_type": "code",
      "metadata": {
        "id": "LX2sX8C59QzK"
      },
      "source": [
        ""
      ],
      "execution_count": null,
      "outputs": []
    }
  ]
}