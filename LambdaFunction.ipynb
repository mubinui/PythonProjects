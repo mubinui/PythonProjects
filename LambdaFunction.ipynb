{
  "nbformat": 4,
  "nbformat_minor": 0,
  "metadata": {
    "colab": {
      "name": "LambdaFunction.ipynb",
      "provenance": [],
      "authorship_tag": "ABX9TyOBLHzlbkJ7V6Naw06eTYor",
      "include_colab_link": true
    },
    "kernelspec": {
      "name": "python3",
      "display_name": "Python 3"
    }
  },
  "cells": [
    {
      "cell_type": "markdown",
      "metadata": {
        "id": "view-in-github",
        "colab_type": "text"
      },
      "source": [
        "<a href=\"https://colab.research.google.com/github/mubinui/PythonProjects/blob/master/LambdaFunction.ipynb\" target=\"_parent\"><img src=\"https://colab.research.google.com/assets/colab-badge.svg\" alt=\"Open In Colab\"/></a>"
      ]
    },
    {
      "cell_type": "markdown",
      "metadata": {
        "id": "pQcCKiOmA28s"
      },
      "source": [
        "Lambda function\r\n",
        " lambda function can take any number of \r\n",
        "\r\n",
        "1. lambda function can take any number of arguments \r\n",
        "2. But it need to be one expression \r\n",
        "3. Lambda expression => lambda arguments : expression\r\n"
      ]
    },
    {
      "cell_type": "code",
      "metadata": {
        "colab": {
          "base_uri": "https://localhost:8080/"
        },
        "id": "jD2p3hDUAwvt",
        "outputId": "64ba4f65-0153-41c9-c284-56edcd563913"
      },
      "source": [
        "x = lambda a : a+10\r\n",
        "print(x(5))"
      ],
      "execution_count": null,
      "outputs": [
        {
          "output_type": "stream",
          "text": [
            "15\n"
          ],
          "name": "stdout"
        }
      ]
    },
    {
      "cell_type": "markdown",
      "metadata": {
        "id": "G5exgQayC7nd"
      },
      "source": [
        "Multiple argument taking lambda function"
      ]
    },
    {
      "cell_type": "code",
      "metadata": {
        "colab": {
          "base_uri": "https://localhost:8080/"
        },
        "id": "sEKq3E67Cosj",
        "outputId": "8058e159-7968-4d71-cf84-7dc29e7ebd18"
      },
      "source": [
        "x = lambda a,b,c  : (a+b)*c\r\n",
        "print(x(\"Mubin \",\"Spydo\",5))"
      ],
      "execution_count": 1,
      "outputs": [
        {
          "output_type": "stream",
          "text": [
            "Mubin SpydoMubin SpydoMubin SpydoMubin SpydoMubin Spydo\n"
          ],
          "name": "stdout"
        }
      ]
    },
    {
      "cell_type": "markdown",
      "metadata": {
        "id": "-WlpfWe6JXV7"
      },
      "source": [
        "Using an unknown argument for lambda function"
      ]
    },
    {
      "cell_type": "code",
      "metadata": {
        "id": "H1Arh69RD7mG",
        "colab": {
          "base_uri": "https://localhost:8080/"
        },
        "outputId": "dfb34e4d-d400-4445-9fa9-48256f25ba3e"
      },
      "source": [
        " def a_function(y):\r\n",
        "     return lambda x : x * y\r\n",
        "\r\n",
        "a_var = a_function(4) #a_var(arg) also a single var taking fun\r\n",
        "b_var = a_function(2)\r\n",
        "print(a_var(5))\r\n",
        "print(a_var(7))\r\n",
        "print(b_var(5))\r\n"
      ],
      "execution_count": null,
      "outputs": [
        {
          "output_type": "stream",
          "text": [
            "20\n",
            "28\n",
            "10\n"
          ],
          "name": "stdout"
        }
      ]
    },
    {
      "cell_type": "code",
      "metadata": {
        "id": "nMCAMNJXKEw5"
      },
      "source": [
        ""
      ],
      "execution_count": null,
      "outputs": []
    }
  ]
}