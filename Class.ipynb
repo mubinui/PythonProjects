{
  "nbformat": 4,
  "nbformat_minor": 0,
  "metadata": {
    "colab": {
      "name": "Class.ipynb",
      "provenance": [],
      "authorship_tag": "ABX9TyNiLkrbK4FkqXoSzRhpUqpy",
      "include_colab_link": true
    },
    "kernelspec": {
      "name": "python3",
      "display_name": "Python 3"
    }
  },
  "cells": [
    {
      "cell_type": "markdown",
      "metadata": {
        "id": "view-in-github",
        "colab_type": "text"
      },
      "source": [
        "<a href=\"https://colab.research.google.com/github/mubinui/PythonProjects/blob/master/Class.ipynb\" target=\"_parent\"><img src=\"https://colab.research.google.com/assets/colab-badge.svg\" alt=\"Open In Colab\"/></a>"
      ]
    },
    {
      "cell_type": "markdown",
      "metadata": {
        "id": "xMbONWcTL4Zh"
      },
      "source": [
        "How classes works in python \r\n",
        "\r\n",
        "1.   Creating a class\r\n",
        "2.   Blueprint for creating objects \r\n",
        "3. First we keep a class inside a variable (Create instance) then we can call the methods or variables from the class by calling the variable.(variable/method inside the class )\r\n",
        "\r\n"
      ]
    },
    {
      "cell_type": "code",
      "metadata": {
        "colab": {
          "base_uri": "https://localhost:8080/"
        },
        "id": "AMA928BlLtpx",
        "outputId": "0ef89d80-30cc-46e6-96b1-b91db94b1364"
      },
      "source": [
        "class MubinsClass:\r\n",
        "    a = 5\r\n",
        "    b = \"The class is working like a function \"\r\n",
        "\r\n",
        "object1 = MubinsClass()\r\n",
        "print(object1.a)\r\n",
        "print(object1.b)"
      ],
      "execution_count": null,
      "outputs": [
        {
          "output_type": "stream",
          "text": [
            "5\n",
            "The class is working like a function \n"
          ],
          "name": "stdout"
        }
      ]
    },
    {
      "cell_type": "markdown",
      "metadata": {
        "id": "lhJiJgGSOZWI"
      },
      "source": [
        "The _ init _() works like a constructer .\r\n",
        "It always executed when the class is being initialized. # init has double underscore __\r\n",
        "\r\n"
      ]
    },
    {
      "cell_type": "code",
      "metadata": {
        "id": "SYL9pQ6SNbwv",
        "colab": {
          "base_uri": "https://localhost:8080/"
        },
        "outputId": "5d3d263e-58bc-46f2-8afa-3b07474cd331"
      },
      "source": [
        "class Person:\r\n",
        "    def __init__(self,name,age):\r\n",
        "        self.name = name\r\n",
        "        self.age = age\r\n",
        "        print(\"System intialized\")\r\n",
        "    \r\n",
        "    def fathers_age(self):\r\n",
        "        print(\"Fathers Name : Senior \",self.name)\r\n",
        "        return lambda a : a+12\r\n",
        "\r\n",
        "p1 = Person(\"Mubin\",36)\r\n",
        "f_age = p1.fathers_age()\r\n",
        "a_var = f_age(23)\r\n",
        "print(\"Fathers age :\",a_var)\r\n"
      ],
      "execution_count": null,
      "outputs": [
        {
          "output_type": "stream",
          "text": [
            "System intialized\n",
            "Fathers Name : Senior  Mubin\n",
            "Fathers age : 35\n"
          ],
          "name": "stdout"
        }
      ]
    },
    {
      "cell_type": "markdown",
      "metadata": {
        "id": "ZnwoClk8ZBD5"
      },
      "source": [
        "Other functions using self param "
      ]
    },
    {
      "cell_type": "code",
      "metadata": {
        "id": "Zx0wP3KzTccU"
      },
      "source": [
        "#Deleting object properties \r\n",
        "# we use del keyword for deleting any properties from any object\r\n",
        " del p1.age # we want to delete the age property from p1 object \r\n",
        " del p1 # When we want to delete a whole object \r\n",
        "\r\n",
        " # We cannnot define an empty class so we use pass statement for avoiding any error "
      ],
      "execution_count": null,
      "outputs": []
    }
  ]
}