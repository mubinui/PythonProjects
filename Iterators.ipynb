{
  "nbformat": 4,
  "nbformat_minor": 0,
  "metadata": {
    "colab": {
      "name": "Iterators.ipynb",
      "provenance": [],
      "authorship_tag": "ABX9TyMPsq3SFuoy4Pi2ptJb2EG7",
      "include_colab_link": true
    },
    "kernelspec": {
      "name": "python3",
      "display_name": "Python 3"
    }
  },
  "cells": [
    {
      "cell_type": "markdown",
      "metadata": {
        "id": "view-in-github",
        "colab_type": "text"
      },
      "source": [
        "<a href=\"https://colab.research.google.com/github/mubinui/PythonProjects/blob/master/Iterators.ipynb\" target=\"_parent\"><img src=\"https://colab.research.google.com/assets/colab-badge.svg\" alt=\"Open In Colab\"/></a>"
      ]
    },
    {
      "cell_type": "markdown",
      "metadata": {
        "id": "3ivN7ru59V_w"
      },
      "source": [
        "Creating and using an iterator\r\n",
        "we can use all iterables"
      ]
    },
    {
      "cell_type": "code",
      "metadata": {
        "colab": {
          "base_uri": "https://localhost:8080/"
        },
        "id": "mDRBVhle8nmF",
        "outputId": "869a7837-c0b1-4faa-9415-3e30fef94654"
      },
      "source": [
        "a_touple = (\"apple\",\"mango\",\"olive\",\"coconut\")\r\n",
        "a_itr = iter(a_touple)\r\n",
        "print(next(a_itr))\r\n",
        "print(next(a_itr))\r\n",
        "print(next(a_itr))"
      ],
      "execution_count": null,
      "outputs": [
        {
          "output_type": "stream",
          "text": [
            "apple\n",
            "mango\n",
            "olive\n"
          ],
          "name": "stdout"
        }
      ]
    },
    {
      "cell_type": "code",
      "metadata": {
        "id": "Xwv8Ap_F-FXP"
      },
      "source": [
        "#for loop actually work like a iterator \r\n",
        "for x in a_itr:\r\n",
        "    print(x)\r\n"
      ],
      "execution_count": null,
      "outputs": []
    },
    {
      "cell_type": "code",
      "metadata": {
        "id": "4LzuBRJJ2ppZ"
      },
      "source": [
        "class My_Iter:\r\n",
        "    def __iter__(self):\r\n",
        "        self.a = 1\r\n",
        "        print(self.a,\"Iteraration running \")\r\n",
        "        return self\r\n",
        "\r\n",
        "    def __next__(self):\r\n",
        "        x = self.a\r\n",
        "        self.a += 1\r\n",
        "        print(\"Next function running \")\r\n",
        "        return x\r\n",
        "\r\n"
      ],
      "execution_count": null,
      "outputs": []
    },
    {
      "cell_type": "code",
      "metadata": {
        "colab": {
          "base_uri": "https://localhost:8080/"
        },
        "id": "OWGb-p_F4Rlh",
        "outputId": "20f6c88d-1ed9-4c95-c1ec-66a143af7083"
      },
      "source": [
        "iter_class = My_Iter()\r\n",
        "myiter = iter(iter_class)\r\n",
        "print(next(myiter))\r\n",
        "print(next(myiter))\r\n",
        "print(next(myiter))\r\n",
        "a_list = [\"apple\",\"mango\",\"pineapple\",\"olive\",\"coconut\",\"avocado\"]\r\n",
        "b_itr = iter(a_list)\r\n",
        "\r\n",
        "\r\n",
        "print(next(b_itr))\r\n",
        "print(next(b_itr))\r\n",
        "print(next(b_itr))"
      ],
      "execution_count": null,
      "outputs": [
        {
          "output_type": "stream",
          "text": [
            "1 Iteraration running \n",
            "Next function running \n",
            "1\n",
            "Next function running \n",
            "2\n",
            "Next function running \n",
            "3\n",
            "apple\n",
            "mango\n",
            "pineapple\n"
          ],
          "name": "stdout"
        }
      ]
    },
    {
      "cell_type": "markdown",
      "metadata": {
        "id": "CxsKd6Si6CWo"
      },
      "source": [
        "Stopping iteration and analysis of Iterator"
      ]
    },
    {
      "cell_type": "code",
      "metadata": {
        "colab": {
          "base_uri": "https://localhost:8080/"
        },
        "id": "s-bhSd6S5UEe",
        "outputId": "9ab7fd59-4110-47f8-a2b9-d3392e81686f"
      },
      "source": [
        "class Iter_a :\r\n",
        "    def __init__(self,a):\r\n",
        "        self.a = a\r\n",
        "\r\n",
        "    def __iter__(self):\r\n",
        "        self.count = 0\r\n",
        "        return self\r\n",
        "\r\n",
        "    def __next__(self):\r\n",
        "        x = self.count\r\n",
        "        self.count += 1\r\n",
        "        return x\r\n",
        "      \r\n",
        "a_list = [\"apple\",\"mango\",\"pineapple\",\"olive\",\"coconut\",\"avocado\"]\r\n",
        "a_object = Iter_a(a_list)\r\n",
        "a_iter = iter(a_object)\r\n",
        "\r\n",
        "print(a_list[next(a_iter)])\r\n",
        "print(a_list[next(a_iter)])\r\n",
        "print(a_list[next(a_iter)])\r\n",
        "\r\n"
      ],
      "execution_count": null,
      "outputs": [
        {
          "output_type": "stream",
          "text": [
            "apple\n",
            "mango\n",
            "pineapple\n"
          ],
          "name": "stdout"
        }
      ]
    },
    {
      "cell_type": "code",
      "metadata": {
        "colab": {
          "base_uri": "https://localhost:8080/"
        },
        "id": "52uNOcgj7ljs",
        "outputId": "493c2e88-4c06-41b2-a1b6-6d094e33d2e3"
      },
      "source": [
        "print(a_list[next(a_iter)])"
      ],
      "execution_count": null,
      "outputs": [
        {
          "output_type": "stream",
          "text": [
            "olive\n"
          ],
          "name": "stdout"
        }
      ]
    },
    {
      "cell_type": "code",
      "metadata": {
        "colab": {
          "base_uri": "https://localhost:8080/"
        },
        "id": "G1xQtGFoBdmk",
        "outputId": "bbdc91a7-2515-4c93-9f3b-bfb829b8c9ab"
      },
      "source": [
        "class MyNumbers:\r\n",
        "  def __iter__(self):\r\n",
        "    self.a = 1\r\n",
        "    return self\r\n",
        "\r\n",
        "  def __next__(self):\r\n",
        "    if self.a <= 20:\r\n",
        "      x = self.a\r\n",
        "      self.a += 1\r\n",
        "      return x\r\n",
        "    else:\r\n",
        "      raise StopIteration # raise !!!\r\n",
        "      \r\n",
        "\r\n",
        "myclass = MyNumbers()\r\n",
        "myiter = iter(myclass)\r\n",
        "\r\n",
        "for x in myiter:\r\n",
        "  print(x)"
      ],
      "execution_count": null,
      "outputs": [
        {
          "output_type": "stream",
          "text": [
            "1\n",
            "2\n",
            "3\n",
            "4\n",
            "5\n",
            "6\n",
            "7\n",
            "8\n",
            "9\n",
            "10\n",
            "11\n",
            "12\n",
            "13\n",
            "14\n",
            "15\n",
            "16\n",
            "17\n",
            "18\n",
            "19\n",
            "20\n"
          ],
          "name": "stdout"
        }
      ]
    }
  ]
}