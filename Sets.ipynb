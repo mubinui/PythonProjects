{
  "nbformat": 4,
  "nbformat_minor": 0,
  "metadata": {
    "colab": {
      "name": "Sets.ipynb",
      "provenance": [],
      "authorship_tag": "ABX9TyNmBIV+SkDRaBtOG4h6Kigi",
      "include_colab_link": true
    },
    "kernelspec": {
      "name": "python3",
      "display_name": "Python 3"
    }
  },
  "cells": [
    {
      "cell_type": "markdown",
      "metadata": {
        "id": "view-in-github",
        "colab_type": "text"
      },
      "source": [
        "<a href=\"https://colab.research.google.com/github/mubinui/PythonProjects/blob/master/Sets.ipynb\" target=\"_parent\"><img src=\"https://colab.research.google.com/assets/colab-badge.svg\" alt=\"Open In Colab\"/></a>"
      ]
    },
    {
      "cell_type": "markdown",
      "metadata": {
        "id": "wlLCShJV_YPF"
      },
      "source": [
        "Lets work with sets in python "
      ]
    },
    {
      "cell_type": "code",
      "metadata": {
        "colab": {
          "base_uri": "https://localhost:8080/"
        },
        "id": "QfE53H71T_lf",
        "outputId": "473b14e2-990c-4beb-e752-3211542fb979"
      },
      "source": [
        "myset = {'apple','banana','cherry'}\r\n",
        "#check brackets at the time of using set \r\n",
        "print(myset)\r\n",
        "print(len(myset))\r\n",
        "print(type(myset))\r\n",
        "set01 = {'abc',34,True,40,'male'}\r\n",
        "print(set01)"
      ],
      "execution_count": null,
      "outputs": [
        {
          "output_type": "stream",
          "text": [
            "{'apple', 'cherry', 'banana'}\n",
            "3\n",
            "<class 'set'>\n",
            "{True, 34, 40, 'male', 'abc'}\n"
          ],
          "name": "stdout"
        }
      ]
    },
    {
      "cell_type": "code",
      "metadata": {
        "colab": {
          "base_uri": "https://localhost:8080/"
        },
        "id": "2K6WSRpKUmHA",
        "outputId": "7d97ed70-5354-4f9e-dafa-fd37ac1e1c4d"
      },
      "source": [
        "#We can use set(()) constructer to make a set \r\n",
        "set_a = set(('mubin','apple','samsung','titen','galaxy'))\r\n",
        "print(set_a)# no duplicate allowed \r\n",
        "print(len(set_a))"
      ],
      "execution_count": 1,
      "outputs": [
        {
          "output_type": "stream",
          "text": [
            "{'mubin', 'titen', 'apple', 'samsung', 'galaxy'}\n",
            "5\n"
          ],
          "name": "stdout"
        }
      ]
    },
    {
      "cell_type": "code",
      "metadata": {
        "id": "cDy71xqGV530",
        "colab": {
          "base_uri": "https://localhost:8080/"
        },
        "outputId": "e1a96618-e50e-4c59-bca4-8a29f37e755f"
      },
      "source": [
        "#Set Items Data Types\r\n",
        "set1 = {\"apple\",\"banana\",\"cherry\"}\r\n",
        "set2 = {1,2,3,4,5}\r\n",
        "set3 = {True,False,False}\r\n",
        "print(type(set1))\r\n",
        "print(type(set2))\r\n",
        "print(type(set3))"
      ],
      "execution_count": null,
      "outputs": [
        {
          "output_type": "stream",
          "text": [
            "<class 'set'>\n",
            "<class 'set'>\n",
            "<class 'set'>\n"
          ],
          "name": "stdout"
        }
      ]
    },
    {
      "cell_type": "code",
      "metadata": {
        "colab": {
          "base_uri": "https://localhost:8080/"
        },
        "id": "0lc7FLgCBTBK",
        "outputId": "26cac999-ca54-4c3c-f0e8-e65934c00e64"
      },
      "source": [
        "# We can create set with differnt data types \r\n",
        "setmix = {'apple',34,34,True,True,False,\"Mubin\"}\r\n",
        "print(setmix)\r\n",
        "print(len(setmix))\r\n"
      ],
      "execution_count": null,
      "outputs": [
        {
          "output_type": "stream",
          "text": [
            "{False, True, 34, 'apple', 'Mubin'}\n",
            "5\n"
          ],
          "name": "stdout"
        }
      ]
    },
    {
      "cell_type": "code",
      "metadata": {
        "colab": {
          "base_uri": "https://localhost:8080/"
        },
        "id": "xOju0XO5Cd36",
        "outputId": "133fcb60-a00e-44f5-8a6a-ab0709ecc635"
      },
      "source": [
        "# The set Constructor\r\n",
        "setcon = set(('a','b','c','d','e'))\r\n",
        "print(setcon)\r\n",
        "#Using set with loop \r\n",
        "for x in setcon:\r\n",
        "    print(x)\r\n",
        "# Add operation in set\r\n",
        "setcon.add(\"n\")\r\n",
        "print(setcon)"
      ],
      "execution_count": null,
      "outputs": [
        {
          "output_type": "stream",
          "text": [
            "{'b', 'a', 'e', 'd', 'c'}\n",
            "b\n",
            "a\n",
            "e\n",
            "d\n",
            "c\n",
            "{'b', 'n', 'a', 'e', 'd', 'c'}\n"
          ],
          "name": "stdout"
        }
      ]
    },
    {
      "cell_type": "code",
      "metadata": {
        "id": "qsm05K6zDEzg",
        "colab": {
          "base_uri": "https://localhost:8080/"
        },
        "outputId": "59c9726e-2942-4c36-c6d0-e172528b2057"
      },
      "source": [
        "#update operations in set\r\n",
        "seta = {\"apple\",\"mango\",\"jackfruit\"}\r\n",
        "setb = {\"grape\",\"coconut\",\"lichi\"}\r\n",
        "seta.update(setb)\r\n",
        "print(seta)\r\n",
        "#update operation can add lists and set or any iterables \r\n",
        "lista = [\"mubin\",'coconut','white','teelo']\r\n",
        "seta.update(lista)\r\n",
        "print(seta)"
      ],
      "execution_count": 2,
      "outputs": [
        {
          "output_type": "stream",
          "text": [
            "{'grape', 'coconut', 'lichi', 'jackfruit', 'mango', 'apple'}\n",
            "{'grape', 'white', 'coconut', 'teelo', 'lichi', 'jackfruit', 'mango', 'mubin', 'apple'}\n"
          ],
          "name": "stdout"
        }
      ]
    },
    {
      "cell_type": "code",
      "metadata": {
        "id": "Hx8-niZDHK2R",
        "colab": {
          "base_uri": "https://localhost:8080/"
        },
        "outputId": "4081f983-6414-4919-b425-2c8dfa8b1790"
      },
      "source": [
        "#Removing set items \r\n",
        "thisset = {'apple','lichi','rose','rose','rose'}\r\n",
        "thisset.remove('rose')\r\n",
        "thisset.discard('apple')\r\n",
        "#Discard method\r\n",
        "print(thisset)"
      ],
      "execution_count": 3,
      "outputs": [
        {
          "output_type": "stream",
          "text": [
            "{'lichi'}\n"
          ],
          "name": "stdout"
        }
      ]
    },
    {
      "cell_type": "code",
      "metadata": {
        "colab": {
          "base_uri": "https://localhost:8080/"
        },
        "id": "NadC6jFfuXvU",
        "outputId": "5f948d14-d755-4dab-94e6-a3637ac1a4fe"
      },
      "source": [
        "# working with some methods \r\n",
        "setc = set((\"apple\",\"banana\",\"pineapple\",\"mango\",\"berry\")) # set builder method \r\n",
        "print(setc)\r\n",
        "#pop method\r\n",
        "setc.pop()#pops the first item\r\n",
        "setc"
      ],
      "execution_count": null,
      "outputs": [
        {
          "output_type": "stream",
          "text": [
            "{'banana', 'apple', 'berry', 'pineapple', 'mango'}\n"
          ],
          "name": "stdout"
        },
        {
          "output_type": "execute_result",
          "data": {
            "text/plain": [
              "{'apple', 'berry', 'mango', 'pineapple'}"
            ]
          },
          "metadata": {
            "tags": []
          },
          "execution_count": 7
        }
      ]
    },
    {
      "cell_type": "code",
      "metadata": {
        "colab": {
          "base_uri": "https://localhost:8080/"
        },
        "id": "oSDekYC02IvI",
        "outputId": "9cbe1786-d56f-4e63-8eae-a18f3cc4a103"
      },
      "source": [
        "setd = set((\"apple\",\"banana\",\"pineapple\",\"mango\",\"berry\"))\r\n",
        "#clear method\r\n",
        "#setd.clear() returns an empty set\r\n",
        "print(setd)\r\n",
        "del setd # Deletes the set completely \r\n"
      ],
      "execution_count": null,
      "outputs": [
        {
          "output_type": "stream",
          "text": [
            "{'banana', 'apple', 'berry', 'pineapple', 'mango'}\n"
          ],
          "name": "stdout"
        }
      ]
    },
    {
      "cell_type": "markdown",
      "metadata": {
        "id": "Uqi8P-rS4Y-L"
      },
      "source": [
        "Join Sets Union , Update, intersection_update , symmetric_difference_update"
      ]
    },
    {
      "cell_type": "code",
      "metadata": {
        "colab": {
          "base_uri": "https://localhost:8080/"
        },
        "id": "0-e8qGrO3moh",
        "outputId": "d6f76c23-d25c-4576-fcf6-9463ad572cdf"
      },
      "source": [
        "x = {\"apple\", \"banana\",\"coconut\",\"lemon\",\"mango\"}\r\n",
        "y = {\"google\",\"microsoft\",\"apple\",\"mango\"}\r\n",
        "unionOperation = x.union(y)#returns\r\n",
        "print(unionOperation,\"union operation\")\r\n",
        "x.update(y)#voidmethod\r\n",
        "print(x,\"update operation\")"
      ],
      "execution_count": null,
      "outputs": [
        {
          "output_type": "stream",
          "text": [
            "{'coconut', 'microsoft', 'mango', 'banana', 'google', 'apple', 'lemon'} union operation\n",
            "{'microsoft', 'banana', 'google', 'apple', 'coconut', 'mango', 'lemon'} update operation\n"
          ],
          "name": "stdout"
        }
      ]
    },
    {
      "cell_type": "code",
      "metadata": {
        "id": "_EgEcVaz6Z6D",
        "colab": {
          "base_uri": "https://localhost:8080/"
        },
        "outputId": "f3e566a9-6a93-4b89-8f38-17fb29ad740c"
      },
      "source": [
        " x = {\"apple\", \"banana\",\"coconut\",\"lemon\",\"mango\"}\r\n",
        " y = {\"google\",\"microsoft\",\"apple\",\"mango\"}\r\n",
        " #Lets try Intersection operation # returns or update just the common items \r\n",
        " intersectionOperation = x.intersection(y)\r\n",
        " print(intersectionOperation,\"Intersection Operation # returns \") \r\n",
        " x.intersection_update(y)\r\n",
        " print(x,\"Intersection operation\")\r\n"
      ],
      "execution_count": null,
      "outputs": [
        {
          "output_type": "stream",
          "text": [
            "{'apple', 'mango'} Intersection Operation # returns \n",
            "{'apple', 'mango'} Intersection operation\n"
          ],
          "name": "stdout"
        }
      ]
    },
    {
      "cell_type": "code",
      "metadata": {
        "colab": {
          "base_uri": "https://localhost:8080/"
        },
        "id": "KOAs5cKvBMyT",
        "outputId": "db7348b0-0541-4caa-cb7b-363a17a47b6a"
      },
      "source": [
        " x = {\"apple\", \"banana\",\"coconut\",\"lemon\",\"mango\"}\r\n",
        " y = {\"google\",\"microsoft\",\"apple\",\"mango\"}\r\n",
        "\r\n",
        "sset = x.symmetric_difference(y) #keep all except the items are common \r\n",
        "print(sset)\r\n"
      ],
      "execution_count": null,
      "outputs": [
        {
          "output_type": "stream",
          "text": [
            "{'microsoft', 'banana', 'google', 'coconut', 'lemon'}\n"
          ],
          "name": "stdout"
        }
      ]
    },
    {
      "cell_type": "code",
      "metadata": {
        "id": "YpfRDt7REKxR"
      },
      "source": [
        ""
      ],
      "execution_count": null,
      "outputs": []
    }
  ]
}