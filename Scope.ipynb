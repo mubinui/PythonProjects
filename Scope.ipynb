{
  "nbformat": 4,
  "nbformat_minor": 0,
  "metadata": {
    "colab": {
      "name": "Scope.ipynb",
      "provenance": [],
      "authorship_tag": "ABX9TyOBQgqKKOi7lqp14oK1QkOA",
      "include_colab_link": true
    },
    "kernelspec": {
      "name": "python3",
      "display_name": "Python 3"
    }
  },
  "cells": [
    {
      "cell_type": "markdown",
      "metadata": {
        "id": "view-in-github",
        "colab_type": "text"
      },
      "source": [
        "<a href=\"https://colab.research.google.com/github/mubinui/PythonProjects/blob/master/Scope.ipynb\" target=\"_parent\"><img src=\"https://colab.research.google.com/assets/colab-badge.svg\" alt=\"Open In Colab\"/></a>"
      ]
    },
    {
      "cell_type": "markdown",
      "metadata": {
        "id": "wzbbNAjGCHjR"
      },
      "source": [
        "Local Scope"
      ]
    },
    {
      "cell_type": "code",
      "metadata": {
        "id": "BzFc0q5QB6LQ",
        "colab": {
          "base_uri": "https://localhost:8080/"
        },
        "outputId": "b00c1764-bcf7-42e2-c681-0dd6699b56d0"
      },
      "source": [
        "def myFunc():\r\n",
        "    x = 300\r\n",
        "    print(x)\r\n",
        "\r\n",
        "myFunc()\r\n",
        "\r\n"
      ],
      "execution_count": null,
      "outputs": [
        {
          "output_type": "stream",
          "text": [
            "300\n"
          ],
          "name": "stdout"
        }
      ]
    },
    {
      "cell_type": "code",
      "metadata": {
        "colab": {
          "base_uri": "https://localhost:8080/"
        },
        "id": "YZYvs1hXVCrA",
        "outputId": "5dc34960-41f8-4b7b-9b4d-4f4efd4ffe6c"
      },
      "source": [
        "#Nested funcstion \r\n",
        "def myfunc():\r\n",
        "    x = 300\r\n",
        "    def myinnerfunc():\r\n",
        "        print(x)\r\n",
        "\r\n",
        "    myinnerfunc()\r\n",
        "\r\n",
        "myfunc()\r\n"
      ],
      "execution_count": null,
      "outputs": [
        {
          "output_type": "stream",
          "text": [
            "300\n"
          ],
          "name": "stdout"
        }
      ]
    },
    {
      "cell_type": "code",
      "metadata": {
        "colab": {
          "base_uri": "https://localhost:8080/"
        },
        "id": "xnUMSMvRVl7e",
        "outputId": "5b13752f-756b-4e5b-d210-96166f59bb64"
      },
      "source": [
        "#Global Scope \r\n",
        "\r\n",
        "x = 300\r\n",
        "def myfunc():\r\n",
        "    print(x)\r\n",
        "\r\n",
        "myfunc()\r\n",
        "print(x)\r\n"
      ],
      "execution_count": null,
      "outputs": [
        {
          "output_type": "stream",
          "text": [
            "300\n",
            "300\n"
          ],
          "name": "stdout"
        }
      ]
    },
    {
      "cell_type": "code",
      "metadata": {
        "colab": {
          "base_uri": "https://localhost:8080/"
        },
        "id": "zLm8L-97W_4Z",
        "outputId": "fe5552b5-543b-4adb-82c0-cacb791bc1e4"
      },
      "source": [
        "def fun_a():\r\n",
        "    a=10\r\n",
        "    b =10\r\n",
        "    global c\r\n",
        "    c = a+b\r\n",
        "    print(c)\r\n",
        "\r\n",
        "fun_a()\r\n",
        "print(c)"
      ],
      "execution_count": null,
      "outputs": [
        {
          "output_type": "stream",
          "text": [
            "20\n",
            "20\n"
          ],
          "name": "stdout"
        }
      ]
    },
    {
      "cell_type": "code",
      "metadata": {
        "id": "3xdjlyKcXZ08"
      },
      "source": [
        ""
      ],
      "execution_count": null,
      "outputs": []
    }
  ]
}