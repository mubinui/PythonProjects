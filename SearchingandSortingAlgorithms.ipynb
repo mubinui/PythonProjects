{
  "nbformat": 4,
  "nbformat_minor": 0,
  "metadata": {
    "colab": {
      "name": "SearchingandSortingAlgorithms.ipynb",
      "provenance": [],
      "authorship_tag": "ABX9TyOh6kvCIO77VqwZmMR9E0dc",
      "include_colab_link": true
    },
    "kernelspec": {
      "name": "python3",
      "display_name": "Python 3"
    },
    "language_info": {
      "name": "python"
    }
  },
  "cells": [
    {
      "cell_type": "markdown",
      "metadata": {
        "id": "view-in-github",
        "colab_type": "text"
      },
      "source": [
        "<a href=\"https://colab.research.google.com/github/mubinui/PythonProjects/blob/master/SearchingandSortingAlgorithms.ipynb\" target=\"_parent\"><img src=\"https://colab.research.google.com/assets/colab-badge.svg\" alt=\"Open In Colab\"/></a>"
      ]
    },
    {
      "cell_type": "code",
      "metadata": {
        "id": "CcOqc6pqOX_b"
      },
      "source": [
        "import numpy as np "
      ],
      "execution_count": 60,
      "outputs": []
    },
    {
      "cell_type": "markdown",
      "metadata": {
        "id": "lcIlNX7Haz7Y"
      },
      "source": [
        "Binary Search "
      ]
    },
    {
      "cell_type": "code",
      "metadata": {
        "id": "oXxmeo0la_2W"
      },
      "source": [
        "class SearchingAlgorithms:\n",
        "    \n",
        "        \n",
        "    def binary_search (array, elem, left , right ):\n",
        "\n",
        "        if left<=right:\n",
        "            mid = int((left + right)/2)\n",
        "\n",
        "            if array[mid] == elem:\n",
        "                return mid\n",
        "                \n",
        "            if array[mid]<elem:\n",
        "                left = mid+1\n",
        "            else: \n",
        "                right = mid-1\n",
        "            return binary_search(array, elem, left, right)\n",
        "        else: \n",
        "            return -1\n",
        "    \n",
        "\n",
        "    def search(array , elem ):\n",
        "        for x in array:\n",
        "            if x == elem:\n",
        "                return x\n",
        "            \n",
        "        else:\n",
        "            return -1\n",
        "\n",
        "            \n"
      ],
      "execution_count": 55,
      "outputs": []
    },
    {
      "cell_type": "code",
      "metadata": {
        "colab": {
          "base_uri": "https://localhost:8080/"
        },
        "id": "8MjChGWsinFG",
        "outputId": "d5bf156a-8274-46fb-ad95-96e0bf473943"
      },
      "source": [
        "#Binary Search Tester \n",
        "\n",
        "a = [1, 2, 3, 4, 5]\n",
        "array = np.array(a)\n",
        "\n",
        "sa = SearchingAlgorithms\n",
        "result = sa.binary_search(array,5,0,len(array))\n",
        "if  result != -1 : \n",
        "    print(array[result])"
      ],
      "execution_count": 58,
      "outputs": [
        {
          "output_type": "stream",
          "text": [
            "5\n"
          ],
          "name": "stdout"
        }
      ]
    },
    {
      "cell_type": "markdown",
      "metadata": {
        "id": "fuZiwSkfsp_N"
      },
      "source": [
        "**Sorting Algorithms** \n",
        "    Bubble sort\n",
        "\n",
        "\n"
      ]
    },
    {
      "cell_type": "code",
      "metadata": {
        "id": "CblP-8J8v1IX"
      },
      "source": [
        "class SortingAlgorithms:\n",
        "    \n",
        "    def __init__ (self, array):\n",
        "        self.array = array\n",
        "\n",
        "    \n",
        "    def bubble_sort (self):\n",
        "        for i in range(len(self.array)-1):\n",
        "            for j in range(len(self.array)-1-i):\n",
        "                if (self.array[j]>self.array[j+1]):\n",
        "                    temp = self.array[j]\n",
        "                    self.array[j] = self.array[j+1]\n",
        "                    self.array[j+1] = temp\n",
        "\n",
        "\n",
        "                \n",
        "\n",
        "\n",
        "#    def selection_sort(self):\n"
      ],
      "execution_count": 70,
      "outputs": []
    },
    {
      "cell_type": "code",
      "metadata": {
        "colab": {
          "base_uri": "https://localhost:8080/"
        },
        "id": "BIiluUsc1XKF",
        "outputId": "32cee126-bed3-4b23-cb1b-4a1865f28438"
      },
      "source": [
        "#Sorting algorithm tester \n",
        "a = [5, 1, 4, 6, 7]\n",
        "array = np.array(a)\n",
        "\n",
        "#bubble sort tester \n",
        "print(\"=> Bubblesort tester \")\n",
        "sorting = SortingAlgorithms(array)\n",
        "sorting.bubble_sort()\n",
        "print(array)\n"
      ],
      "execution_count": 71,
      "outputs": [
        {
          "output_type": "stream",
          "text": [
            "=> Bubblesort tester \n",
            "[1 4 5 6 7]\n"
          ],
          "name": "stdout"
        }
      ]
    },
    {
      "cell_type": "code",
      "metadata": {
        "id": "O_WHapae2M5r"
      },
      "source": [
        ""
      ],
      "execution_count": null,
      "outputs": []
    }
  ]
}