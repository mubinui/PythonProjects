{
  "nbformat": 4,
  "nbformat_minor": 0,
  "metadata": {
    "colab": {
      "name": "Numpy.ipynb",
      "provenance": [],
      "authorship_tag": "ABX9TyMk5+C/mBOW1Ycp5zbsS7KU",
      "include_colab_link": true
    },
    "kernelspec": {
      "display_name": "Python 3",
      "name": "python3"
    },
    "language_info": {
      "name": "python"
    }
  },
  "cells": [
    {
      "cell_type": "markdown",
      "metadata": {
        "id": "view-in-github",
        "colab_type": "text"
      },
      "source": [
        "<a href=\"https://colab.research.google.com/github/mubinui/PythonProjects/blob/master/Numpy.ipynb\" target=\"_parent\"><img src=\"https://colab.research.google.com/assets/colab-badge.svg\" alt=\"Open In Colab\"/></a>"
      ]
    },
    {
      "cell_type": "code",
      "metadata": {
        "colab": {
          "base_uri": "https://localhost:8080/"
        },
        "id": "2PbY25UeFenu",
        "outputId": "a62cc37c-30a2-4821-c993-56bd343c032f"
      },
      "source": [
        "import numpy as np\n",
        "arr = np.array([1,2,3,4,5])\n",
        "print(arr)\n",
        "print(np.__version__)\n",
        "print(type(arr))"
      ],
      "execution_count": null,
      "outputs": [
        {
          "output_type": "stream",
          "text": [
            "[1 2 3 4 5]\n",
            "1.19.5\n",
            "<class 'numpy.ndarray'>\n"
          ],
          "name": "stdout"
        }
      ]
    },
    {
      "cell_type": "code",
      "metadata": {
        "colab": {
          "base_uri": "https://localhost:8080/"
        },
        "id": "YYeZXWyiGU8S",
        "outputId": "2071027a-2efb-4e45-cee0-a40b67637c57"
      },
      "source": [
        "import numpy as np \n",
        "st = tuple((1,6,7,5,7,8))\n",
        "ar = np.array(st)\n",
        "print(st)\n",
        "print(ar)\n",
        "print(type(st))\n",
        "print(type(ar))"
      ],
      "execution_count": null,
      "outputs": [
        {
          "output_type": "stream",
          "text": [
            "(1, 6, 7, 5, 7, 8)\n",
            "[1 6 7 5 7 8]\n",
            "<class 'tuple'>\n",
            "<class 'numpy.ndarray'>\n"
          ],
          "name": "stdout"
        }
      ]
    },
    {
      "cell_type": "code",
      "metadata": {
        "colab": {
          "base_uri": "https://localhost:8080/"
        },
        "id": "ZrQKSDTGHAPP",
        "outputId": "f7200718-3d95-4789-aa9b-bed691283c7c"
      },
      "source": [
        "import numpy as np \n",
        "arr = np.array(42)\n",
        "print(arr)\n",
        "print(type(arr))"
      ],
      "execution_count": null,
      "outputs": [
        {
          "output_type": "stream",
          "text": [
            "42\n",
            "<class 'numpy.ndarray'>\n"
          ],
          "name": "stdout"
        }
      ]
    },
    {
      "cell_type": "code",
      "metadata": {
        "colab": {
          "base_uri": "https://localhost:8080/"
        },
        "id": "S42GdXmkLjFF",
        "outputId": "6af5bf31-a3e7-4ca3-e3a7-c9bd672989bf"
      },
      "source": [
        "#2d array and multidimension array\n",
        "import numpy as np \n",
        "arr = np.array([[2,6,4],[9,6,7],[\"M\",\"T\",\"D\"],[\"T\",\"L\",\"C\"]])\n",
        "print(arr)\n",
        "print(arr.ndim)\n",
        "#Multidimensional arry\n",
        "a = np.array([[1,2,3,4],[\"a\",\"b\",\"c\",\"d\"]],ndmin = 6)\n",
        "print(a)\n",
        "print(\"number of dimension :\",a.ndim)"
      ],
      "execution_count": null,
      "outputs": [
        {
          "output_type": "stream",
          "text": [
            "[['2' '6' '4']\n",
            " ['9' '6' '7']\n",
            " ['M' 'T' 'D']\n",
            " ['T' 'L' 'C']]\n",
            "2\n",
            "[[[[[['1' '2' '3' '4']\n",
            "     ['a' 'b' 'c' 'd']]]]]]\n",
            "number of dimension : 6\n"
          ],
          "name": "stdout"
        }
      ]
    },
    {
      "cell_type": "code",
      "metadata": {
        "colab": {
          "base_uri": "https://localhost:8080/"
        },
        "id": "wycLOV6zNqZh",
        "outputId": "71f40f63-ddf6-43aa-d2b4-144ce74eca95"
      },
      "source": [
        "import numpy as np \n",
        "\n",
        "arr = np.array([1,2,3,3,7])\n",
        "print(arr[0])\n",
        "print(arr[-1])\n",
        "arr_01 = np.array([[1,2,3,4,5,6],[2,3,4,46,7,7]])\n",
        "#printing second element from the first dimension \n",
        "print(arr_01[0,1])\n",
        "print(arr_01[1,3])\n",
        "#Accessing the items in 3 dim array \n",
        "arr_3dim = np.array([[[3,4,6,8],[9,8,6,9]],[[1,2,3,4,],[2,3,4,46,]]])\n",
        "print(arr_3dim.ndim)\n",
        "print(arr_3dim[1,1])\n",
        "print(arr_3dim[1,1,1])\n",
        "#3d array slicing \n",
        "print(arr_3dim[1,1,0:2])"
      ],
      "execution_count": null,
      "outputs": [
        {
          "output_type": "stream",
          "text": [
            "1\n",
            "7\n",
            "2\n",
            "46\n",
            "3\n",
            "[ 2  3  4 46]\n",
            "3\n",
            "[2 3]\n"
          ],
          "name": "stdout"
        }
      ]
    },
    {
      "cell_type": "code",
      "metadata": {
        "colab": {
          "base_uri": "https://localhost:8080/"
        },
        "id": "9my1fQ2uRTM-",
        "outputId": "5a93851f-0a60-4cbf-f1f4-a4199dc69872"
      },
      "source": [
        "#Numpy Data types \n",
        "import numpy as np\n",
        "arr = np.array([1,2,3,4])\n",
        "arr_s = np.array([4,5,6,7],dtype ='S')\n",
        "print(arr_s)\n",
        "print(arr_s.dtype)\n",
        "print(arr.dtype)\n",
        "arr_s1 = np.array([\"Cherry\",\"apple\",\"coconut\",\"rasberry\"])\n",
        "print(arr_s1.dtype)\n",
        "#Create an array with data type 4 bytes integer\n",
        "arr_i4 = np.array([1,2,3,4],\"i4\")\n",
        "print(arr_i4.dtype)\n",
        "print(arr_i4)"
      ],
      "execution_count": null,
      "outputs": [
        {
          "output_type": "stream",
          "text": [
            "[b'4' b'5' b'6' b'7']\n",
            "|S1\n",
            "int64\n",
            "<U8\n",
            "int32\n",
            "[1 2 3 4]\n"
          ],
          "name": "stdout"
        }
      ]
    },
    {
      "cell_type": "code",
      "metadata": {
        "colab": {
          "base_uri": "https://localhost:8080/"
        },
        "id": "09wDsc3BWC-v",
        "outputId": "08d80a96-04ef-4341-9b49-037d5ad2beaf"
      },
      "source": [
        "# Numpy Array Slicing \n",
        "import numpy as np \n",
        "\n",
        "arr = np.array([1,2,3,4,5,6,7])\n",
        "print(arr[1:6:3]) #output [2 5]\n",
        "print(arr[::2])\n"
      ],
      "execution_count": null,
      "outputs": [
        {
          "output_type": "stream",
          "text": [
            "[2 5]\n",
            "[1 3 5 7]\n"
          ],
          "name": "stdout"
        }
      ]
    },
    {
      "cell_type": "code",
      "metadata": {
        "colab": {
          "base_uri": "https://localhost:8080/"
        },
        "id": "EPYUEzg-fBs5",
        "outputId": "024a6fd3-1840-4040-bbac-86aef362c55d"
      },
      "source": [
        "#Slicing 3d Array \n",
        "import numpy as np \n",
        "arrcd = np.array([[[[1,2,3],[2,3,4],[1,2,3],[1,2,3]],[[4,5,6],[1,2,3],[4,5,6],[7,8,9]]]])\n",
        "print(arrcd[0,0,0,:])\n",
        "print(arrcd.ndim)\n"
      ],
      "execution_count": null,
      "outputs": [
        {
          "output_type": "stream",
          "text": [
            "[1 2 3]\n",
            "4\n"
          ],
          "name": "stdout"
        }
      ]
    },
    {
      "cell_type": "code",
      "metadata": {
        "colab": {
          "base_uri": "https://localhost:8080/"
        },
        "id": "Y8tgpeD5h2hT",
        "outputId": "6f9a25ce-7006-4711-f720-e42663c9f65a"
      },
      "source": [
        "#Type conversion in python \n",
        "import numpy as np \n",
        "arr = np.array([1.1,2.2,3.3,4.4,5.5,6.6])\n",
        "newarray = arr.astype(int)\n",
        "newarray_02 = newarray.astype(bool)\n",
        "print(newarray)\n",
        "print(newarray_02)\n",
        "print(newarray.dtype)\n",
        "print(type(newarray))"
      ],
      "execution_count": null,
      "outputs": [
        {
          "output_type": "stream",
          "text": [
            "[1 2 3 4 5 6]\n",
            "[ True  True  True  True  True  True]\n",
            "int64\n",
            "<class 'numpy.ndarray'>\n"
          ],
          "name": "stdout"
        }
      ]
    },
    {
      "cell_type": "code",
      "metadata": {
        "colab": {
          "base_uri": "https://localhost:8080/"
        },
        "id": "xaGRIcO6ljvc",
        "outputId": "73251d98-43da-4df1-ea89-e11f19d830b4"
      },
      "source": [
        "import numpy as np \n",
        "#Difference between View and Copy \n",
        "arr = np.array([1,2,3,4,5,6])\n",
        "x = arr.copy()\n",
        "arr[0] = 42\n",
        "print(arr)\n",
        "print(x)\n",
        "y = arr.view()\n",
        "y[0]= 10\n",
        "print(y)\n",
        "print(arr)\n",
        "arr[0] = 25\n",
        "print(y)"
      ],
      "execution_count": null,
      "outputs": [
        {
          "output_type": "stream",
          "text": [
            "[42  2  3  4  5  6]\n",
            "[1 2 3 4 5 6]\n",
            "[10  2  3  4  5  6]\n",
            "[10  2  3  4  5  6]\n",
            "[25  2  3  4  5  6]\n"
          ],
          "name": "stdout"
        }
      ]
    },
    {
      "cell_type": "code",
      "metadata": {
        "colab": {
          "base_uri": "https://localhost:8080/"
        },
        "id": "V_Gt4AMZnYYO",
        "outputId": "fce6bf29-a4df-44f6-b003-5964cbfe0b84"
      },
      "source": [
        "import numpy as np \n",
        "arr = np.array([[1,2,3,8],[4,5,6,7],[3,5,8,9]])\n",
        "print(arr.shape) # Prints rows and colom \n",
        "\n",
        "a_r = np.array([1,2,3,4,5],ndmin = 5)\n",
        "print(a_r.shape)\n",
        "print(a_r)\n",
        "a_a = np.array([])\n",
        "\n",
        "\n",
        "\n",
        "\n",
        "#Numpy Array Shape \n"
      ],
      "execution_count": null,
      "outputs": [
        {
          "output_type": "stream",
          "text": [
            "(3, 4)\n",
            "(1, 1, 1, 1, 5)\n",
            "[[[[[1 2 3 4 5]]]]]\n"
          ],
          "name": "stdout"
        }
      ]
    },
    {
      "cell_type": "code",
      "metadata": {
        "colab": {
          "base_uri": "https://localhost:8080/"
        },
        "id": "eyzVe5nT5QEU",
        "outputId": "f4f82d4c-3188-439c-ffe9-d91a714cd78e"
      },
      "source": [
        "#Numpy array reshaping \n",
        "import numpy as np\n",
        "arr = np.array([1,2,3,4,5,6,7,8,9,10,11,12]) \n",
        "new_array = arr.reshape(4,3) #2d array \n",
        "new_array01 = arr.reshape(3,4) #2d array \n",
        "new_array02 = arr.reshape(6,1,2) #3d array\n",
        "print(new_array)\n",
        "print(new_array01)\n",
        "print(new_array02)\n",
        "\n",
        "# with negetive dim \n",
        "arra = np.array([1,2,3,4,5,6,7,8])\n",
        "newarr = arra.reshape(2,2,-1)\n",
        "print(newarr)\n",
        "#flattening the arrays \n",
        "newarr04 = new_array.reshape(-1)\n",
        "print(newarr04) # will print a one dimensional array \n",
        "\n"
      ],
      "execution_count": null,
      "outputs": [
        {
          "output_type": "stream",
          "text": [
            "[[ 1  2  3]\n",
            " [ 4  5  6]\n",
            " [ 7  8  9]\n",
            " [10 11 12]]\n",
            "[[ 1  2  3  4]\n",
            " [ 5  6  7  8]\n",
            " [ 9 10 11 12]]\n",
            "[[[ 1  2]]\n",
            "\n",
            " [[ 3  4]]\n",
            "\n",
            " [[ 5  6]]\n",
            "\n",
            " [[ 7  8]]\n",
            "\n",
            " [[ 9 10]]\n",
            "\n",
            " [[11 12]]]\n",
            "[[[1 2]\n",
            "  [3 4]]\n",
            "\n",
            " [[5 6]\n",
            "  [7 8]]]\n",
            "[ 1  2  3  4  5  6  7  8  9 10 11 12]\n"
          ],
          "name": "stdout"
        }
      ]
    },
    {
      "cell_type": "code",
      "metadata": {
        "colab": {
          "base_uri": "https://localhost:8080/"
        },
        "id": "6Akyex2iDFo1",
        "outputId": "748ce27b-fa89-4f9f-8685-e04834c924aa"
      },
      "source": [
        "#Numpy array Iterating \n",
        "import numpy as np\n",
        "arr = np.array([[1,2,3,4],[4,5,6,7]])\n",
        "for x in arr:\n",
        "    for y in x:\n",
        "        print(y)\n"
      ],
      "execution_count": null,
      "outputs": [
        {
          "output_type": "stream",
          "text": [
            "1\n",
            "2\n",
            "3\n",
            "4\n",
            "4\n",
            "5\n",
            "6\n",
            "7\n"
          ],
          "name": "stdout"
        }
      ]
    },
    {
      "cell_type": "code",
      "metadata": {
        "colab": {
          "base_uri": "https://localhost:8080/"
        },
        "id": "vB76I-E0NG7I",
        "outputId": "bfc800fd-aaa7-4ac7-c7f6-677a72d205a6"
      },
      "source": [
        "import numpy as np \n",
        "arr = np.array([[[1, 2, 3], [4, 5, 6]], [[7, 8, 9], [10, 11, 12]]])\n",
        "for x in arr:\n",
        "    for y in x:\n",
        "        for z in y:\n",
        "            print(z)"
      ],
      "execution_count": null,
      "outputs": [
        {
          "output_type": "stream",
          "text": [
            "1\n",
            "2\n",
            "3\n",
            "4\n",
            "5\n",
            "6\n",
            "7\n",
            "8\n",
            "9\n",
            "10\n",
            "11\n",
            "12\n"
          ],
          "name": "stdout"
        }
      ]
    },
    {
      "cell_type": "code",
      "metadata": {
        "colab": {
          "base_uri": "https://localhost:8080/"
        },
        "id": "4bfmM0UNNk8a",
        "outputId": "bd29c37f-a1be-412e-9305-15be5a76722c"
      },
      "source": [
        "# use of nditer\n",
        "import numpy as np \n",
        "\n",
        "arr = np.array([[[1,2],[3,4]],[[5,6],[7,8]]])\n",
        "print(arr)\n",
        "arr01 = np.array([1,2,3])\n",
        "for x in np.nditer(arr):# help to access all the values \n",
        "    print(x)\n",
        "\n",
        "for x in np.nditer(arr, flags=[\"buffered\"],op_dtypes = ['S']):\n",
        "    print(x)"
      ],
      "execution_count": null,
      "outputs": [
        {
          "output_type": "stream",
          "text": [
            "[[[1 2]\n",
            "  [3 4]]\n",
            "\n",
            " [[5 6]\n",
            "  [7 8]]]\n",
            "1\n",
            "2\n",
            "3\n",
            "4\n",
            "5\n",
            "6\n",
            "7\n",
            "8\n",
            "b'1'\n",
            "b'2'\n",
            "b'3'\n",
            "b'4'\n",
            "b'5'\n",
            "b'6'\n",
            "b'7'\n",
            "b'8'\n"
          ],
          "name": "stdout"
        }
      ]
    },
    {
      "cell_type": "code",
      "metadata": {
        "colab": {
          "base_uri": "https://localhost:8080/"
        },
        "id": "zbeiFkF-PFuF",
        "outputId": "95e9a964-cb4c-42c5-9510-1b9c8de08d5d"
      },
      "source": [
        "import numpy as np \n",
        "arr = np.array([[1, 2, 3, 4], [5, 6, 7, 8]])\n",
        "for index , x in np.ndenumerate(arr):# index is a option here best representation \n",
        "    print(index,x)\n"
      ],
      "execution_count": null,
      "outputs": [
        {
          "output_type": "stream",
          "text": [
            "(0, 0) 1\n",
            "(0, 1) 2\n",
            "(0, 2) 3\n",
            "(0, 3) 4\n",
            "(1, 0) 5\n",
            "(1, 1) 6\n",
            "(1, 2) 7\n",
            "(1, 3) 8\n"
          ],
          "name": "stdout"
        }
      ]
    },
    {
      "cell_type": "code",
      "metadata": {
        "colab": {
          "base_uri": "https://localhost:8080/"
        },
        "id": "SHwiZUalSb4-",
        "outputId": "703ad600-6243-4800-c625-e43c7aaca600"
      },
      "source": [
        "#Numpy Array Joining \n",
        "import numpy as np \n",
        "arr1 = np.array([1,2,3])\n",
        "arr2 = np.array([4,6,7])\n",
        "arr = np.concatenate((arr1,arr2))\n",
        "print(arr)\n"
      ],
      "execution_count": null,
      "outputs": [
        {
          "output_type": "stream",
          "text": [
            "[1 2 3 4 6 7]\n"
          ],
          "name": "stdout"
        }
      ]
    },
    {
      "cell_type": "code",
      "metadata": {
        "id": "MsnEtzRlpsOd",
        "colab": {
          "base_uri": "https://localhost:8080/"
        },
        "outputId": "ac087971-fb24-485b-f8b4-2a6fab7b84da"
      },
      "source": [
        "#joining 2d array alone axis rows (axis = 1)\n",
        "import numpy as np \n",
        "arr1 = np.array([[1,2],[3,4]])\n",
        "arr2 = np.array([[5,6],[7,8]])\n",
        "arr = np.concatenate((arr1,arr2), axis=0) # (axis =0) adds new row and \n",
        "#axis = 1 adds new column \n",
        "print(arr)"
      ],
      "execution_count": null,
      "outputs": [
        {
          "output_type": "stream",
          "text": [
            "[[1 2]\n",
            " [3 4]\n",
            " [5 6]\n",
            " [7 8]]\n"
          ],
          "name": "stdout"
        }
      ]
    },
    {
      "cell_type": "code",
      "metadata": {
        "colab": {
          "base_uri": "https://localhost:8080/"
        },
        "id": "fdDKlZp3Omms",
        "outputId": "df5c1cfe-3f7b-4368-d480-bd0c32a164dd"
      },
      "source": [
        "import numpy as np \n",
        "#Joining arrays using stack \n",
        "arr1 = np.array([1,2,3])\n",
        "arr2 = np.array([4,5,6])\n",
        "arr = np.stack((arr1,arr2),axis = 1) # axis 1 gives adds columns \n",
        "arr_02 = np.stack((arr1,arr2),axis = 0) # axis 0 adds rows \n",
        "print(arr_02)\n",
        "print(arr)\n",
        "#Stacking along rows hstack horizontal stacking \n",
        "arr_hstack  = np.hstack((arr1,arr2)) #horizontal stack\n",
        "arr_vstack  = np.vstack((arr1,arr2)) #colum wise stack (vertical) \n",
        "print(arr_hstack) \n",
        "print(arr_vstack)\n",
        "\n"
      ],
      "execution_count": null,
      "outputs": [
        {
          "output_type": "stream",
          "text": [
            "[[1 2 3]\n",
            " [4 5 6]]\n",
            "[[1 4]\n",
            " [2 5]\n",
            " [3 6]]\n",
            "[1 2 3 4 5 6]\n",
            "[[1 2 3]\n",
            " [4 5 6]]\n"
          ],
          "name": "stdout"
        }
      ]
    },
    {
      "cell_type": "code",
      "metadata": {
        "id": "Az7Af_3zRtRF"
      },
      "source": [
        ""
      ],
      "execution_count": null,
      "outputs": []
    }
  ]
}