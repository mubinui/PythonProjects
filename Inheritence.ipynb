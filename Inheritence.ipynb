{
  "nbformat": 4,
  "nbformat_minor": 0,
  "metadata": {
    "colab": {
      "name": "Inheritence.ipynb",
      "provenance": [],
      "authorship_tag": "ABX9TyPA4FA/G1fLg/eBJS/+jWyU",
      "include_colab_link": true
    },
    "kernelspec": {
      "name": "python3",
      "display_name": "Python 3"
    }
  },
  "cells": [
    {
      "cell_type": "markdown",
      "metadata": {
        "id": "view-in-github",
        "colab_type": "text"
      },
      "source": [
        "<a href=\"https://colab.research.google.com/github/mubinui/PythonProjects/blob/master/Inheritence.ipynb\" target=\"_parent\"><img src=\"https://colab.research.google.com/assets/colab-badge.svg\" alt=\"Open In Colab\"/></a>"
      ]
    },
    {
      "cell_type": "markdown",
      "metadata": {
        "id": "JqkcXJQGiK73"
      },
      "source": [
        "Any class can be a parent class "
      ]
    },
    {
      "cell_type": "code",
      "metadata": {
        "colab": {
          "base_uri": "https://localhost:8080/"
        },
        "id": "CQiuROJVh333",
        "outputId": "93284215-0f05-4a76-82f8-19e8655dd6b8"
      },
      "source": [
        "class Person:\r\n",
        "    def __init__(self,fname,lname):\r\n",
        "        self.firstname = fname\r\n",
        "        self.lastname = lname\r\n",
        "        print(\"System Initialized \")\r\n",
        "\r\n",
        "    def printname(self):\r\n",
        "        print(self.firstname,self.lastname)\r\n",
        "\r\n",
        "\r\n",
        "p1 = Person(\"Mubin\",\"Jonny\")\r\n",
        "p1.printname()\r\n",
        "\r\n"
      ],
      "execution_count": null,
      "outputs": [
        {
          "output_type": "stream",
          "text": [
            "System Initialized \n",
            "Mubin Jonny\n"
          ],
          "name": "stdout"
        }
      ]
    },
    {
      "cell_type": "markdown",
      "metadata": {
        "id": "dnMo8o4Jlt1q"
      },
      "source": [
        "Creating a child Class "
      ]
    },
    {
      "cell_type": "code",
      "metadata": {
        "id": "qjY5VXtVlkGg"
      },
      "source": [
        "class Student(Person):\r\n",
        "    pass"
      ],
      "execution_count": null,
      "outputs": []
    },
    {
      "cell_type": "markdown",
      "metadata": {
        "id": "Ravn5zwUoRui"
      },
      "source": [
        "Creating and using the instance of the child class"
      ]
    },
    {
      "cell_type": "code",
      "metadata": {
        "colab": {
          "base_uri": "https://localhost:8080/"
        },
        "id": "Fck6yfNroecZ",
        "outputId": "4c35ca86-5683-4091-a089-5a185acfe413"
      },
      "source": [
        "student = Student(\"Mubin\",\"Uic\")\r\n",
        "student.printname()"
      ],
      "execution_count": null,
      "outputs": [
        {
          "output_type": "stream",
          "text": [
            "System Initialized \n",
            "Mubin Uic\n"
          ],
          "name": "stdout"
        }
      ]
    },
    {
      "cell_type": "code",
      "metadata": {
        "id": "hXNd52NrovUI",
        "colab": {
          "base_uri": "https://localhost:8080/"
        },
        "outputId": "f0f119fb-fb68-44f6-fdf5-835ecfdea4d9"
      },
      "source": [
        "class Faculty(Person):\r\n",
        "    def __init__(self,fname,lname, year): \r\n",
        "        #Overriding\r\n",
        "        Person.__init__(self,fname,lname) # super().__init__(fname,lname) same task\r\n",
        "        self.exp_year = year\r\n",
        "        print(\"Child running \")\r\n",
        "    \r\n",
        "    def printname(self):\r\n",
        "        print(self.firstname,self.lastname,self.exp_year)\r\n",
        "        \r\n",
        "    \r\n",
        "f_obj = Faculty(\"Mubin\",\"Uic\",\"2022\")\r\n",
        "f_obj.printname()\r\n",
        "\r\n",
        "\r\n",
        "\r\n"
      ],
      "execution_count": null,
      "outputs": [
        {
          "output_type": "stream",
          "text": [
            "System Initialized \n",
            "Child running \n",
            "Mubin Uic 2022\n"
          ],
          "name": "stdout"
        }
      ]
    },
    {
      "cell_type": "code",
      "metadata": {
        "id": "7LmXaVlJ_Xl3"
      },
      "source": [
        ""
      ],
      "execution_count": null,
      "outputs": []
    }
  ]
}